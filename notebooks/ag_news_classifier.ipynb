{
  "nbformat": 4,
  "nbformat_minor": 0,
  "metadata": {
    "colab": {
      "provenance": [],
      "gpuType": "T4"
    },
    "kernelspec": {
      "name": "python3",
      "display_name": "Python 3"
    },
    "language_info": {
      "name": "python"
    },
    "accelerator": "GPU",
    "widgets": {
      "application/vnd.jupyter.widget-state+json": {
        "4db68b7fc7b24bac96f42f74f44c632d": {
          "model_module": "@jupyter-widgets/controls",
          "model_name": "HBoxModel",
          "model_module_version": "1.5.0",
          "state": {
            "_dom_classes": [],
            "_model_module": "@jupyter-widgets/controls",
            "_model_module_version": "1.5.0",
            "_model_name": "HBoxModel",
            "_view_count": null,
            "_view_module": "@jupyter-widgets/controls",
            "_view_module_version": "1.5.0",
            "_view_name": "HBoxView",
            "box_style": "",
            "children": [
              "IPY_MODEL_7eec1538d1e0407487781a40484c390a",
              "IPY_MODEL_2e5d7818087d470bbd1bd98324b9e38d",
              "IPY_MODEL_f6b5f57cbbae4e72812deb06261d4d16"
            ],
            "layout": "IPY_MODEL_aadeb68aa0d24b86a470214d20e98697"
          }
        },
        "7eec1538d1e0407487781a40484c390a": {
          "model_module": "@jupyter-widgets/controls",
          "model_name": "HTMLModel",
          "model_module_version": "1.5.0",
          "state": {
            "_dom_classes": [],
            "_model_module": "@jupyter-widgets/controls",
            "_model_module_version": "1.5.0",
            "_model_name": "HTMLModel",
            "_view_count": null,
            "_view_module": "@jupyter-widgets/controls",
            "_view_module_version": "1.5.0",
            "_view_name": "HTMLView",
            "description": "",
            "description_tooltip": null,
            "layout": "IPY_MODEL_c790d7818258499788ed498cd7c6df62",
            "placeholder": "​",
            "style": "IPY_MODEL_9197c08cc7674386a807376699e123a5",
            "value": "README.md: "
          }
        },
        "2e5d7818087d470bbd1bd98324b9e38d": {
          "model_module": "@jupyter-widgets/controls",
          "model_name": "FloatProgressModel",
          "model_module_version": "1.5.0",
          "state": {
            "_dom_classes": [],
            "_model_module": "@jupyter-widgets/controls",
            "_model_module_version": "1.5.0",
            "_model_name": "FloatProgressModel",
            "_view_count": null,
            "_view_module": "@jupyter-widgets/controls",
            "_view_module_version": "1.5.0",
            "_view_name": "ProgressView",
            "bar_style": "success",
            "description": "",
            "description_tooltip": null,
            "layout": "IPY_MODEL_22748acc05154586996a560b657dc70c",
            "max": 1,
            "min": 0,
            "orientation": "horizontal",
            "style": "IPY_MODEL_c54c8f507cbb421ea3dea2163b2bcde6",
            "value": 1
          }
        },
        "f6b5f57cbbae4e72812deb06261d4d16": {
          "model_module": "@jupyter-widgets/controls",
          "model_name": "HTMLModel",
          "model_module_version": "1.5.0",
          "state": {
            "_dom_classes": [],
            "_model_module": "@jupyter-widgets/controls",
            "_model_module_version": "1.5.0",
            "_model_name": "HTMLModel",
            "_view_count": null,
            "_view_module": "@jupyter-widgets/controls",
            "_view_module_version": "1.5.0",
            "_view_name": "HTMLView",
            "description": "",
            "description_tooltip": null,
            "layout": "IPY_MODEL_1f47b3ed3ada4b28bb4e7813c4b8f7f1",
            "placeholder": "​",
            "style": "IPY_MODEL_f55cf95bd59b48e0963348d1c5383f85",
            "value": " 8.07k/? [00:00&lt;00:00, 426kB/s]"
          }
        },
        "aadeb68aa0d24b86a470214d20e98697": {
          "model_module": "@jupyter-widgets/base",
          "model_name": "LayoutModel",
          "model_module_version": "1.2.0",
          "state": {
            "_model_module": "@jupyter-widgets/base",
            "_model_module_version": "1.2.0",
            "_model_name": "LayoutModel",
            "_view_count": null,
            "_view_module": "@jupyter-widgets/base",
            "_view_module_version": "1.2.0",
            "_view_name": "LayoutView",
            "align_content": null,
            "align_items": null,
            "align_self": null,
            "border": null,
            "bottom": null,
            "display": null,
            "flex": null,
            "flex_flow": null,
            "grid_area": null,
            "grid_auto_columns": null,
            "grid_auto_flow": null,
            "grid_auto_rows": null,
            "grid_column": null,
            "grid_gap": null,
            "grid_row": null,
            "grid_template_areas": null,
            "grid_template_columns": null,
            "grid_template_rows": null,
            "height": null,
            "justify_content": null,
            "justify_items": null,
            "left": null,
            "margin": null,
            "max_height": null,
            "max_width": null,
            "min_height": null,
            "min_width": null,
            "object_fit": null,
            "object_position": null,
            "order": null,
            "overflow": null,
            "overflow_x": null,
            "overflow_y": null,
            "padding": null,
            "right": null,
            "top": null,
            "visibility": null,
            "width": null
          }
        },
        "c790d7818258499788ed498cd7c6df62": {
          "model_module": "@jupyter-widgets/base",
          "model_name": "LayoutModel",
          "model_module_version": "1.2.0",
          "state": {
            "_model_module": "@jupyter-widgets/base",
            "_model_module_version": "1.2.0",
            "_model_name": "LayoutModel",
            "_view_count": null,
            "_view_module": "@jupyter-widgets/base",
            "_view_module_version": "1.2.0",
            "_view_name": "LayoutView",
            "align_content": null,
            "align_items": null,
            "align_self": null,
            "border": null,
            "bottom": null,
            "display": null,
            "flex": null,
            "flex_flow": null,
            "grid_area": null,
            "grid_auto_columns": null,
            "grid_auto_flow": null,
            "grid_auto_rows": null,
            "grid_column": null,
            "grid_gap": null,
            "grid_row": null,
            "grid_template_areas": null,
            "grid_template_columns": null,
            "grid_template_rows": null,
            "height": null,
            "justify_content": null,
            "justify_items": null,
            "left": null,
            "margin": null,
            "max_height": null,
            "max_width": null,
            "min_height": null,
            "min_width": null,
            "object_fit": null,
            "object_position": null,
            "order": null,
            "overflow": null,
            "overflow_x": null,
            "overflow_y": null,
            "padding": null,
            "right": null,
            "top": null,
            "visibility": null,
            "width": null
          }
        },
        "9197c08cc7674386a807376699e123a5": {
          "model_module": "@jupyter-widgets/controls",
          "model_name": "DescriptionStyleModel",
          "model_module_version": "1.5.0",
          "state": {
            "_model_module": "@jupyter-widgets/controls",
            "_model_module_version": "1.5.0",
            "_model_name": "DescriptionStyleModel",
            "_view_count": null,
            "_view_module": "@jupyter-widgets/base",
            "_view_module_version": "1.2.0",
            "_view_name": "StyleView",
            "description_width": ""
          }
        },
        "22748acc05154586996a560b657dc70c": {
          "model_module": "@jupyter-widgets/base",
          "model_name": "LayoutModel",
          "model_module_version": "1.2.0",
          "state": {
            "_model_module": "@jupyter-widgets/base",
            "_model_module_version": "1.2.0",
            "_model_name": "LayoutModel",
            "_view_count": null,
            "_view_module": "@jupyter-widgets/base",
            "_view_module_version": "1.2.0",
            "_view_name": "LayoutView",
            "align_content": null,
            "align_items": null,
            "align_self": null,
            "border": null,
            "bottom": null,
            "display": null,
            "flex": null,
            "flex_flow": null,
            "grid_area": null,
            "grid_auto_columns": null,
            "grid_auto_flow": null,
            "grid_auto_rows": null,
            "grid_column": null,
            "grid_gap": null,
            "grid_row": null,
            "grid_template_areas": null,
            "grid_template_columns": null,
            "grid_template_rows": null,
            "height": null,
            "justify_content": null,
            "justify_items": null,
            "left": null,
            "margin": null,
            "max_height": null,
            "max_width": null,
            "min_height": null,
            "min_width": null,
            "object_fit": null,
            "object_position": null,
            "order": null,
            "overflow": null,
            "overflow_x": null,
            "overflow_y": null,
            "padding": null,
            "right": null,
            "top": null,
            "visibility": null,
            "width": "20px"
          }
        },
        "c54c8f507cbb421ea3dea2163b2bcde6": {
          "model_module": "@jupyter-widgets/controls",
          "model_name": "ProgressStyleModel",
          "model_module_version": "1.5.0",
          "state": {
            "_model_module": "@jupyter-widgets/controls",
            "_model_module_version": "1.5.0",
            "_model_name": "ProgressStyleModel",
            "_view_count": null,
            "_view_module": "@jupyter-widgets/base",
            "_view_module_version": "1.2.0",
            "_view_name": "StyleView",
            "bar_color": null,
            "description_width": ""
          }
        },
        "1f47b3ed3ada4b28bb4e7813c4b8f7f1": {
          "model_module": "@jupyter-widgets/base",
          "model_name": "LayoutModel",
          "model_module_version": "1.2.0",
          "state": {
            "_model_module": "@jupyter-widgets/base",
            "_model_module_version": "1.2.0",
            "_model_name": "LayoutModel",
            "_view_count": null,
            "_view_module": "@jupyter-widgets/base",
            "_view_module_version": "1.2.0",
            "_view_name": "LayoutView",
            "align_content": null,
            "align_items": null,
            "align_self": null,
            "border": null,
            "bottom": null,
            "display": null,
            "flex": null,
            "flex_flow": null,
            "grid_area": null,
            "grid_auto_columns": null,
            "grid_auto_flow": null,
            "grid_auto_rows": null,
            "grid_column": null,
            "grid_gap": null,
            "grid_row": null,
            "grid_template_areas": null,
            "grid_template_columns": null,
            "grid_template_rows": null,
            "height": null,
            "justify_content": null,
            "justify_items": null,
            "left": null,
            "margin": null,
            "max_height": null,
            "max_width": null,
            "min_height": null,
            "min_width": null,
            "object_fit": null,
            "object_position": null,
            "order": null,
            "overflow": null,
            "overflow_x": null,
            "overflow_y": null,
            "padding": null,
            "right": null,
            "top": null,
            "visibility": null,
            "width": null
          }
        },
        "f55cf95bd59b48e0963348d1c5383f85": {
          "model_module": "@jupyter-widgets/controls",
          "model_name": "DescriptionStyleModel",
          "model_module_version": "1.5.0",
          "state": {
            "_model_module": "@jupyter-widgets/controls",
            "_model_module_version": "1.5.0",
            "_model_name": "DescriptionStyleModel",
            "_view_count": null,
            "_view_module": "@jupyter-widgets/base",
            "_view_module_version": "1.2.0",
            "_view_name": "StyleView",
            "description_width": ""
          }
        },
        "2abc0fae5a2342c9905306e53059fef4": {
          "model_module": "@jupyter-widgets/controls",
          "model_name": "HBoxModel",
          "model_module_version": "1.5.0",
          "state": {
            "_dom_classes": [],
            "_model_module": "@jupyter-widgets/controls",
            "_model_module_version": "1.5.0",
            "_model_name": "HBoxModel",
            "_view_count": null,
            "_view_module": "@jupyter-widgets/controls",
            "_view_module_version": "1.5.0",
            "_view_name": "HBoxView",
            "box_style": "",
            "children": [
              "IPY_MODEL_7243ecc603464c2494ff195cd45bf827",
              "IPY_MODEL_0bc048e23c304e9fbdfc3f3f10b08297",
              "IPY_MODEL_0ed8c058220f47e4aa640a6c020bb38c"
            ],
            "layout": "IPY_MODEL_6bc025064ccc48b0859f0b57bca2b3fb"
          }
        },
        "7243ecc603464c2494ff195cd45bf827": {
          "model_module": "@jupyter-widgets/controls",
          "model_name": "HTMLModel",
          "model_module_version": "1.5.0",
          "state": {
            "_dom_classes": [],
            "_model_module": "@jupyter-widgets/controls",
            "_model_module_version": "1.5.0",
            "_model_name": "HTMLModel",
            "_view_count": null,
            "_view_module": "@jupyter-widgets/controls",
            "_view_module_version": "1.5.0",
            "_view_name": "HTMLView",
            "description": "",
            "description_tooltip": null,
            "layout": "IPY_MODEL_f3d3d52237d74c0e9d51183e7e5cf3de",
            "placeholder": "​",
            "style": "IPY_MODEL_5b9a108623da46b196b25497db5003c1",
            "value": "train-00000-of-00001.parquet: 100%"
          }
        },
        "0bc048e23c304e9fbdfc3f3f10b08297": {
          "model_module": "@jupyter-widgets/controls",
          "model_name": "FloatProgressModel",
          "model_module_version": "1.5.0",
          "state": {
            "_dom_classes": [],
            "_model_module": "@jupyter-widgets/controls",
            "_model_module_version": "1.5.0",
            "_model_name": "FloatProgressModel",
            "_view_count": null,
            "_view_module": "@jupyter-widgets/controls",
            "_view_module_version": "1.5.0",
            "_view_name": "ProgressView",
            "bar_style": "success",
            "description": "",
            "description_tooltip": null,
            "layout": "IPY_MODEL_60a10a624ac64eb5958fae1a405d8184",
            "max": 18585438,
            "min": 0,
            "orientation": "horizontal",
            "style": "IPY_MODEL_68320b4fc39547a990df1a1d2d48bf35",
            "value": 18585438
          }
        },
        "0ed8c058220f47e4aa640a6c020bb38c": {
          "model_module": "@jupyter-widgets/controls",
          "model_name": "HTMLModel",
          "model_module_version": "1.5.0",
          "state": {
            "_dom_classes": [],
            "_model_module": "@jupyter-widgets/controls",
            "_model_module_version": "1.5.0",
            "_model_name": "HTMLModel",
            "_view_count": null,
            "_view_module": "@jupyter-widgets/controls",
            "_view_module_version": "1.5.0",
            "_view_name": "HTMLView",
            "description": "",
            "description_tooltip": null,
            "layout": "IPY_MODEL_2d67658c938c40cebdd738d051a674a3",
            "placeholder": "​",
            "style": "IPY_MODEL_4fd56c28a3f548369ffb1ae7599053ef",
            "value": " 18.6M/18.6M [00:00&lt;00:00, 74.2MB/s]"
          }
        },
        "6bc025064ccc48b0859f0b57bca2b3fb": {
          "model_module": "@jupyter-widgets/base",
          "model_name": "LayoutModel",
          "model_module_version": "1.2.0",
          "state": {
            "_model_module": "@jupyter-widgets/base",
            "_model_module_version": "1.2.0",
            "_model_name": "LayoutModel",
            "_view_count": null,
            "_view_module": "@jupyter-widgets/base",
            "_view_module_version": "1.2.0",
            "_view_name": "LayoutView",
            "align_content": null,
            "align_items": null,
            "align_self": null,
            "border": null,
            "bottom": null,
            "display": null,
            "flex": null,
            "flex_flow": null,
            "grid_area": null,
            "grid_auto_columns": null,
            "grid_auto_flow": null,
            "grid_auto_rows": null,
            "grid_column": null,
            "grid_gap": null,
            "grid_row": null,
            "grid_template_areas": null,
            "grid_template_columns": null,
            "grid_template_rows": null,
            "height": null,
            "justify_content": null,
            "justify_items": null,
            "left": null,
            "margin": null,
            "max_height": null,
            "max_width": null,
            "min_height": null,
            "min_width": null,
            "object_fit": null,
            "object_position": null,
            "order": null,
            "overflow": null,
            "overflow_x": null,
            "overflow_y": null,
            "padding": null,
            "right": null,
            "top": null,
            "visibility": null,
            "width": null
          }
        },
        "f3d3d52237d74c0e9d51183e7e5cf3de": {
          "model_module": "@jupyter-widgets/base",
          "model_name": "LayoutModel",
          "model_module_version": "1.2.0",
          "state": {
            "_model_module": "@jupyter-widgets/base",
            "_model_module_version": "1.2.0",
            "_model_name": "LayoutModel",
            "_view_count": null,
            "_view_module": "@jupyter-widgets/base",
            "_view_module_version": "1.2.0",
            "_view_name": "LayoutView",
            "align_content": null,
            "align_items": null,
            "align_self": null,
            "border": null,
            "bottom": null,
            "display": null,
            "flex": null,
            "flex_flow": null,
            "grid_area": null,
            "grid_auto_columns": null,
            "grid_auto_flow": null,
            "grid_auto_rows": null,
            "grid_column": null,
            "grid_gap": null,
            "grid_row": null,
            "grid_template_areas": null,
            "grid_template_columns": null,
            "grid_template_rows": null,
            "height": null,
            "justify_content": null,
            "justify_items": null,
            "left": null,
            "margin": null,
            "max_height": null,
            "max_width": null,
            "min_height": null,
            "min_width": null,
            "object_fit": null,
            "object_position": null,
            "order": null,
            "overflow": null,
            "overflow_x": null,
            "overflow_y": null,
            "padding": null,
            "right": null,
            "top": null,
            "visibility": null,
            "width": null
          }
        },
        "5b9a108623da46b196b25497db5003c1": {
          "model_module": "@jupyter-widgets/controls",
          "model_name": "DescriptionStyleModel",
          "model_module_version": "1.5.0",
          "state": {
            "_model_module": "@jupyter-widgets/controls",
            "_model_module_version": "1.5.0",
            "_model_name": "DescriptionStyleModel",
            "_view_count": null,
            "_view_module": "@jupyter-widgets/base",
            "_view_module_version": "1.2.0",
            "_view_name": "StyleView",
            "description_width": ""
          }
        },
        "60a10a624ac64eb5958fae1a405d8184": {
          "model_module": "@jupyter-widgets/base",
          "model_name": "LayoutModel",
          "model_module_version": "1.2.0",
          "state": {
            "_model_module": "@jupyter-widgets/base",
            "_model_module_version": "1.2.0",
            "_model_name": "LayoutModel",
            "_view_count": null,
            "_view_module": "@jupyter-widgets/base",
            "_view_module_version": "1.2.0",
            "_view_name": "LayoutView",
            "align_content": null,
            "align_items": null,
            "align_self": null,
            "border": null,
            "bottom": null,
            "display": null,
            "flex": null,
            "flex_flow": null,
            "grid_area": null,
            "grid_auto_columns": null,
            "grid_auto_flow": null,
            "grid_auto_rows": null,
            "grid_column": null,
            "grid_gap": null,
            "grid_row": null,
            "grid_template_areas": null,
            "grid_template_columns": null,
            "grid_template_rows": null,
            "height": null,
            "justify_content": null,
            "justify_items": null,
            "left": null,
            "margin": null,
            "max_height": null,
            "max_width": null,
            "min_height": null,
            "min_width": null,
            "object_fit": null,
            "object_position": null,
            "order": null,
            "overflow": null,
            "overflow_x": null,
            "overflow_y": null,
            "padding": null,
            "right": null,
            "top": null,
            "visibility": null,
            "width": null
          }
        },
        "68320b4fc39547a990df1a1d2d48bf35": {
          "model_module": "@jupyter-widgets/controls",
          "model_name": "ProgressStyleModel",
          "model_module_version": "1.5.0",
          "state": {
            "_model_module": "@jupyter-widgets/controls",
            "_model_module_version": "1.5.0",
            "_model_name": "ProgressStyleModel",
            "_view_count": null,
            "_view_module": "@jupyter-widgets/base",
            "_view_module_version": "1.2.0",
            "_view_name": "StyleView",
            "bar_color": null,
            "description_width": ""
          }
        },
        "2d67658c938c40cebdd738d051a674a3": {
          "model_module": "@jupyter-widgets/base",
          "model_name": "LayoutModel",
          "model_module_version": "1.2.0",
          "state": {
            "_model_module": "@jupyter-widgets/base",
            "_model_module_version": "1.2.0",
            "_model_name": "LayoutModel",
            "_view_count": null,
            "_view_module": "@jupyter-widgets/base",
            "_view_module_version": "1.2.0",
            "_view_name": "LayoutView",
            "align_content": null,
            "align_items": null,
            "align_self": null,
            "border": null,
            "bottom": null,
            "display": null,
            "flex": null,
            "flex_flow": null,
            "grid_area": null,
            "grid_auto_columns": null,
            "grid_auto_flow": null,
            "grid_auto_rows": null,
            "grid_column": null,
            "grid_gap": null,
            "grid_row": null,
            "grid_template_areas": null,
            "grid_template_columns": null,
            "grid_template_rows": null,
            "height": null,
            "justify_content": null,
            "justify_items": null,
            "left": null,
            "margin": null,
            "max_height": null,
            "max_width": null,
            "min_height": null,
            "min_width": null,
            "object_fit": null,
            "object_position": null,
            "order": null,
            "overflow": null,
            "overflow_x": null,
            "overflow_y": null,
            "padding": null,
            "right": null,
            "top": null,
            "visibility": null,
            "width": null
          }
        },
        "4fd56c28a3f548369ffb1ae7599053ef": {
          "model_module": "@jupyter-widgets/controls",
          "model_name": "DescriptionStyleModel",
          "model_module_version": "1.5.0",
          "state": {
            "_model_module": "@jupyter-widgets/controls",
            "_model_module_version": "1.5.0",
            "_model_name": "DescriptionStyleModel",
            "_view_count": null,
            "_view_module": "@jupyter-widgets/base",
            "_view_module_version": "1.2.0",
            "_view_name": "StyleView",
            "description_width": ""
          }
        },
        "3d03c436775e4ebdbfa187bac0c8ae7b": {
          "model_module": "@jupyter-widgets/controls",
          "model_name": "HBoxModel",
          "model_module_version": "1.5.0",
          "state": {
            "_dom_classes": [],
            "_model_module": "@jupyter-widgets/controls",
            "_model_module_version": "1.5.0",
            "_model_name": "HBoxModel",
            "_view_count": null,
            "_view_module": "@jupyter-widgets/controls",
            "_view_module_version": "1.5.0",
            "_view_name": "HBoxView",
            "box_style": "",
            "children": [
              "IPY_MODEL_be939b0346e34c9b9c8d8cfe73042152",
              "IPY_MODEL_b0aeb1d91ebc468887ef61bdf0881aec",
              "IPY_MODEL_5dd914cc4e764dc1a8e86f45d412634d"
            ],
            "layout": "IPY_MODEL_9de8418816814bffaa4bf017b05b2f85"
          }
        },
        "be939b0346e34c9b9c8d8cfe73042152": {
          "model_module": "@jupyter-widgets/controls",
          "model_name": "HTMLModel",
          "model_module_version": "1.5.0",
          "state": {
            "_dom_classes": [],
            "_model_module": "@jupyter-widgets/controls",
            "_model_module_version": "1.5.0",
            "_model_name": "HTMLModel",
            "_view_count": null,
            "_view_module": "@jupyter-widgets/controls",
            "_view_module_version": "1.5.0",
            "_view_name": "HTMLView",
            "description": "",
            "description_tooltip": null,
            "layout": "IPY_MODEL_a419aa37421846f4b0e066c0058b077c",
            "placeholder": "​",
            "style": "IPY_MODEL_ed1590f935bb4887bdbcff21d552b619",
            "value": "test-00000-of-00001.parquet: 100%"
          }
        },
        "b0aeb1d91ebc468887ef61bdf0881aec": {
          "model_module": "@jupyter-widgets/controls",
          "model_name": "FloatProgressModel",
          "model_module_version": "1.5.0",
          "state": {
            "_dom_classes": [],
            "_model_module": "@jupyter-widgets/controls",
            "_model_module_version": "1.5.0",
            "_model_name": "FloatProgressModel",
            "_view_count": null,
            "_view_module": "@jupyter-widgets/controls",
            "_view_module_version": "1.5.0",
            "_view_name": "ProgressView",
            "bar_style": "success",
            "description": "",
            "description_tooltip": null,
            "layout": "IPY_MODEL_905d9dc6fc4549e0a2dfac606767f863",
            "max": 1234829,
            "min": 0,
            "orientation": "horizontal",
            "style": "IPY_MODEL_a4743e073eaa49408d8021d9edd42ba7",
            "value": 1234829
          }
        },
        "5dd914cc4e764dc1a8e86f45d412634d": {
          "model_module": "@jupyter-widgets/controls",
          "model_name": "HTMLModel",
          "model_module_version": "1.5.0",
          "state": {
            "_dom_classes": [],
            "_model_module": "@jupyter-widgets/controls",
            "_model_module_version": "1.5.0",
            "_model_name": "HTMLModel",
            "_view_count": null,
            "_view_module": "@jupyter-widgets/controls",
            "_view_module_version": "1.5.0",
            "_view_name": "HTMLView",
            "description": "",
            "description_tooltip": null,
            "layout": "IPY_MODEL_a747066e1ba24c9882e39b391fde1bbc",
            "placeholder": "​",
            "style": "IPY_MODEL_66fdfa16ce674b74980bcad6f3db36fd",
            "value": " 1.23M/1.23M [00:00&lt;00:00, 60.3MB/s]"
          }
        },
        "9de8418816814bffaa4bf017b05b2f85": {
          "model_module": "@jupyter-widgets/base",
          "model_name": "LayoutModel",
          "model_module_version": "1.2.0",
          "state": {
            "_model_module": "@jupyter-widgets/base",
            "_model_module_version": "1.2.0",
            "_model_name": "LayoutModel",
            "_view_count": null,
            "_view_module": "@jupyter-widgets/base",
            "_view_module_version": "1.2.0",
            "_view_name": "LayoutView",
            "align_content": null,
            "align_items": null,
            "align_self": null,
            "border": null,
            "bottom": null,
            "display": null,
            "flex": null,
            "flex_flow": null,
            "grid_area": null,
            "grid_auto_columns": null,
            "grid_auto_flow": null,
            "grid_auto_rows": null,
            "grid_column": null,
            "grid_gap": null,
            "grid_row": null,
            "grid_template_areas": null,
            "grid_template_columns": null,
            "grid_template_rows": null,
            "height": null,
            "justify_content": null,
            "justify_items": null,
            "left": null,
            "margin": null,
            "max_height": null,
            "max_width": null,
            "min_height": null,
            "min_width": null,
            "object_fit": null,
            "object_position": null,
            "order": null,
            "overflow": null,
            "overflow_x": null,
            "overflow_y": null,
            "padding": null,
            "right": null,
            "top": null,
            "visibility": null,
            "width": null
          }
        },
        "a419aa37421846f4b0e066c0058b077c": {
          "model_module": "@jupyter-widgets/base",
          "model_name": "LayoutModel",
          "model_module_version": "1.2.0",
          "state": {
            "_model_module": "@jupyter-widgets/base",
            "_model_module_version": "1.2.0",
            "_model_name": "LayoutModel",
            "_view_count": null,
            "_view_module": "@jupyter-widgets/base",
            "_view_module_version": "1.2.0",
            "_view_name": "LayoutView",
            "align_content": null,
            "align_items": null,
            "align_self": null,
            "border": null,
            "bottom": null,
            "display": null,
            "flex": null,
            "flex_flow": null,
            "grid_area": null,
            "grid_auto_columns": null,
            "grid_auto_flow": null,
            "grid_auto_rows": null,
            "grid_column": null,
            "grid_gap": null,
            "grid_row": null,
            "grid_template_areas": null,
            "grid_template_columns": null,
            "grid_template_rows": null,
            "height": null,
            "justify_content": null,
            "justify_items": null,
            "left": null,
            "margin": null,
            "max_height": null,
            "max_width": null,
            "min_height": null,
            "min_width": null,
            "object_fit": null,
            "object_position": null,
            "order": null,
            "overflow": null,
            "overflow_x": null,
            "overflow_y": null,
            "padding": null,
            "right": null,
            "top": null,
            "visibility": null,
            "width": null
          }
        },
        "ed1590f935bb4887bdbcff21d552b619": {
          "model_module": "@jupyter-widgets/controls",
          "model_name": "DescriptionStyleModel",
          "model_module_version": "1.5.0",
          "state": {
            "_model_module": "@jupyter-widgets/controls",
            "_model_module_version": "1.5.0",
            "_model_name": "DescriptionStyleModel",
            "_view_count": null,
            "_view_module": "@jupyter-widgets/base",
            "_view_module_version": "1.2.0",
            "_view_name": "StyleView",
            "description_width": ""
          }
        },
        "905d9dc6fc4549e0a2dfac606767f863": {
          "model_module": "@jupyter-widgets/base",
          "model_name": "LayoutModel",
          "model_module_version": "1.2.0",
          "state": {
            "_model_module": "@jupyter-widgets/base",
            "_model_module_version": "1.2.0",
            "_model_name": "LayoutModel",
            "_view_count": null,
            "_view_module": "@jupyter-widgets/base",
            "_view_module_version": "1.2.0",
            "_view_name": "LayoutView",
            "align_content": null,
            "align_items": null,
            "align_self": null,
            "border": null,
            "bottom": null,
            "display": null,
            "flex": null,
            "flex_flow": null,
            "grid_area": null,
            "grid_auto_columns": null,
            "grid_auto_flow": null,
            "grid_auto_rows": null,
            "grid_column": null,
            "grid_gap": null,
            "grid_row": null,
            "grid_template_areas": null,
            "grid_template_columns": null,
            "grid_template_rows": null,
            "height": null,
            "justify_content": null,
            "justify_items": null,
            "left": null,
            "margin": null,
            "max_height": null,
            "max_width": null,
            "min_height": null,
            "min_width": null,
            "object_fit": null,
            "object_position": null,
            "order": null,
            "overflow": null,
            "overflow_x": null,
            "overflow_y": null,
            "padding": null,
            "right": null,
            "top": null,
            "visibility": null,
            "width": null
          }
        },
        "a4743e073eaa49408d8021d9edd42ba7": {
          "model_module": "@jupyter-widgets/controls",
          "model_name": "ProgressStyleModel",
          "model_module_version": "1.5.0",
          "state": {
            "_model_module": "@jupyter-widgets/controls",
            "_model_module_version": "1.5.0",
            "_model_name": "ProgressStyleModel",
            "_view_count": null,
            "_view_module": "@jupyter-widgets/base",
            "_view_module_version": "1.2.0",
            "_view_name": "StyleView",
            "bar_color": null,
            "description_width": ""
          }
        },
        "a747066e1ba24c9882e39b391fde1bbc": {
          "model_module": "@jupyter-widgets/base",
          "model_name": "LayoutModel",
          "model_module_version": "1.2.0",
          "state": {
            "_model_module": "@jupyter-widgets/base",
            "_model_module_version": "1.2.0",
            "_model_name": "LayoutModel",
            "_view_count": null,
            "_view_module": "@jupyter-widgets/base",
            "_view_module_version": "1.2.0",
            "_view_name": "LayoutView",
            "align_content": null,
            "align_items": null,
            "align_self": null,
            "border": null,
            "bottom": null,
            "display": null,
            "flex": null,
            "flex_flow": null,
            "grid_area": null,
            "grid_auto_columns": null,
            "grid_auto_flow": null,
            "grid_auto_rows": null,
            "grid_column": null,
            "grid_gap": null,
            "grid_row": null,
            "grid_template_areas": null,
            "grid_template_columns": null,
            "grid_template_rows": null,
            "height": null,
            "justify_content": null,
            "justify_items": null,
            "left": null,
            "margin": null,
            "max_height": null,
            "max_width": null,
            "min_height": null,
            "min_width": null,
            "object_fit": null,
            "object_position": null,
            "order": null,
            "overflow": null,
            "overflow_x": null,
            "overflow_y": null,
            "padding": null,
            "right": null,
            "top": null,
            "visibility": null,
            "width": null
          }
        },
        "66fdfa16ce674b74980bcad6f3db36fd": {
          "model_module": "@jupyter-widgets/controls",
          "model_name": "DescriptionStyleModel",
          "model_module_version": "1.5.0",
          "state": {
            "_model_module": "@jupyter-widgets/controls",
            "_model_module_version": "1.5.0",
            "_model_name": "DescriptionStyleModel",
            "_view_count": null,
            "_view_module": "@jupyter-widgets/base",
            "_view_module_version": "1.2.0",
            "_view_name": "StyleView",
            "description_width": ""
          }
        },
        "0d135ab41b2345c2b655f719d6432664": {
          "model_module": "@jupyter-widgets/controls",
          "model_name": "HBoxModel",
          "model_module_version": "1.5.0",
          "state": {
            "_dom_classes": [],
            "_model_module": "@jupyter-widgets/controls",
            "_model_module_version": "1.5.0",
            "_model_name": "HBoxModel",
            "_view_count": null,
            "_view_module": "@jupyter-widgets/controls",
            "_view_module_version": "1.5.0",
            "_view_name": "HBoxView",
            "box_style": "",
            "children": [
              "IPY_MODEL_7b490e57824d4894b85a1645bb6ea499",
              "IPY_MODEL_e741ec3e166f497c8a0df780c8f838c5",
              "IPY_MODEL_7491169448ce44879b55ea3d0168c2da"
            ],
            "layout": "IPY_MODEL_97913ac7329c4454a012e532535fcfbc"
          }
        },
        "7b490e57824d4894b85a1645bb6ea499": {
          "model_module": "@jupyter-widgets/controls",
          "model_name": "HTMLModel",
          "model_module_version": "1.5.0",
          "state": {
            "_dom_classes": [],
            "_model_module": "@jupyter-widgets/controls",
            "_model_module_version": "1.5.0",
            "_model_name": "HTMLModel",
            "_view_count": null,
            "_view_module": "@jupyter-widgets/controls",
            "_view_module_version": "1.5.0",
            "_view_name": "HTMLView",
            "description": "",
            "description_tooltip": null,
            "layout": "IPY_MODEL_be89def4fd904b369d2a2fee36067df0",
            "placeholder": "​",
            "style": "IPY_MODEL_b3feb730bd15495abaf0aae41aa8137d",
            "value": "Generating train split: 100%"
          }
        },
        "e741ec3e166f497c8a0df780c8f838c5": {
          "model_module": "@jupyter-widgets/controls",
          "model_name": "FloatProgressModel",
          "model_module_version": "1.5.0",
          "state": {
            "_dom_classes": [],
            "_model_module": "@jupyter-widgets/controls",
            "_model_module_version": "1.5.0",
            "_model_name": "FloatProgressModel",
            "_view_count": null,
            "_view_module": "@jupyter-widgets/controls",
            "_view_module_version": "1.5.0",
            "_view_name": "ProgressView",
            "bar_style": "success",
            "description": "",
            "description_tooltip": null,
            "layout": "IPY_MODEL_3d95a2b4b66e4d30b28b5143dc338641",
            "max": 120000,
            "min": 0,
            "orientation": "horizontal",
            "style": "IPY_MODEL_274d555b0ec8470d83e25459d8acb57b",
            "value": 120000
          }
        },
        "7491169448ce44879b55ea3d0168c2da": {
          "model_module": "@jupyter-widgets/controls",
          "model_name": "HTMLModel",
          "model_module_version": "1.5.0",
          "state": {
            "_dom_classes": [],
            "_model_module": "@jupyter-widgets/controls",
            "_model_module_version": "1.5.0",
            "_model_name": "HTMLModel",
            "_view_count": null,
            "_view_module": "@jupyter-widgets/controls",
            "_view_module_version": "1.5.0",
            "_view_name": "HTMLView",
            "description": "",
            "description_tooltip": null,
            "layout": "IPY_MODEL_23b44c1f4b51453296e3243aff40d12d",
            "placeholder": "​",
            "style": "IPY_MODEL_bfee087355bc4ead8a6b4c18389b9521",
            "value": " 120000/120000 [00:00&lt;00:00, 274381.60 examples/s]"
          }
        },
        "97913ac7329c4454a012e532535fcfbc": {
          "model_module": "@jupyter-widgets/base",
          "model_name": "LayoutModel",
          "model_module_version": "1.2.0",
          "state": {
            "_model_module": "@jupyter-widgets/base",
            "_model_module_version": "1.2.0",
            "_model_name": "LayoutModel",
            "_view_count": null,
            "_view_module": "@jupyter-widgets/base",
            "_view_module_version": "1.2.0",
            "_view_name": "LayoutView",
            "align_content": null,
            "align_items": null,
            "align_self": null,
            "border": null,
            "bottom": null,
            "display": null,
            "flex": null,
            "flex_flow": null,
            "grid_area": null,
            "grid_auto_columns": null,
            "grid_auto_flow": null,
            "grid_auto_rows": null,
            "grid_column": null,
            "grid_gap": null,
            "grid_row": null,
            "grid_template_areas": null,
            "grid_template_columns": null,
            "grid_template_rows": null,
            "height": null,
            "justify_content": null,
            "justify_items": null,
            "left": null,
            "margin": null,
            "max_height": null,
            "max_width": null,
            "min_height": null,
            "min_width": null,
            "object_fit": null,
            "object_position": null,
            "order": null,
            "overflow": null,
            "overflow_x": null,
            "overflow_y": null,
            "padding": null,
            "right": null,
            "top": null,
            "visibility": null,
            "width": null
          }
        },
        "be89def4fd904b369d2a2fee36067df0": {
          "model_module": "@jupyter-widgets/base",
          "model_name": "LayoutModel",
          "model_module_version": "1.2.0",
          "state": {
            "_model_module": "@jupyter-widgets/base",
            "_model_module_version": "1.2.0",
            "_model_name": "LayoutModel",
            "_view_count": null,
            "_view_module": "@jupyter-widgets/base",
            "_view_module_version": "1.2.0",
            "_view_name": "LayoutView",
            "align_content": null,
            "align_items": null,
            "align_self": null,
            "border": null,
            "bottom": null,
            "display": null,
            "flex": null,
            "flex_flow": null,
            "grid_area": null,
            "grid_auto_columns": null,
            "grid_auto_flow": null,
            "grid_auto_rows": null,
            "grid_column": null,
            "grid_gap": null,
            "grid_row": null,
            "grid_template_areas": null,
            "grid_template_columns": null,
            "grid_template_rows": null,
            "height": null,
            "justify_content": null,
            "justify_items": null,
            "left": null,
            "margin": null,
            "max_height": null,
            "max_width": null,
            "min_height": null,
            "min_width": null,
            "object_fit": null,
            "object_position": null,
            "order": null,
            "overflow": null,
            "overflow_x": null,
            "overflow_y": null,
            "padding": null,
            "right": null,
            "top": null,
            "visibility": null,
            "width": null
          }
        },
        "b3feb730bd15495abaf0aae41aa8137d": {
          "model_module": "@jupyter-widgets/controls",
          "model_name": "DescriptionStyleModel",
          "model_module_version": "1.5.0",
          "state": {
            "_model_module": "@jupyter-widgets/controls",
            "_model_module_version": "1.5.0",
            "_model_name": "DescriptionStyleModel",
            "_view_count": null,
            "_view_module": "@jupyter-widgets/base",
            "_view_module_version": "1.2.0",
            "_view_name": "StyleView",
            "description_width": ""
          }
        },
        "3d95a2b4b66e4d30b28b5143dc338641": {
          "model_module": "@jupyter-widgets/base",
          "model_name": "LayoutModel",
          "model_module_version": "1.2.0",
          "state": {
            "_model_module": "@jupyter-widgets/base",
            "_model_module_version": "1.2.0",
            "_model_name": "LayoutModel",
            "_view_count": null,
            "_view_module": "@jupyter-widgets/base",
            "_view_module_version": "1.2.0",
            "_view_name": "LayoutView",
            "align_content": null,
            "align_items": null,
            "align_self": null,
            "border": null,
            "bottom": null,
            "display": null,
            "flex": null,
            "flex_flow": null,
            "grid_area": null,
            "grid_auto_columns": null,
            "grid_auto_flow": null,
            "grid_auto_rows": null,
            "grid_column": null,
            "grid_gap": null,
            "grid_row": null,
            "grid_template_areas": null,
            "grid_template_columns": null,
            "grid_template_rows": null,
            "height": null,
            "justify_content": null,
            "justify_items": null,
            "left": null,
            "margin": null,
            "max_height": null,
            "max_width": null,
            "min_height": null,
            "min_width": null,
            "object_fit": null,
            "object_position": null,
            "order": null,
            "overflow": null,
            "overflow_x": null,
            "overflow_y": null,
            "padding": null,
            "right": null,
            "top": null,
            "visibility": null,
            "width": null
          }
        },
        "274d555b0ec8470d83e25459d8acb57b": {
          "model_module": "@jupyter-widgets/controls",
          "model_name": "ProgressStyleModel",
          "model_module_version": "1.5.0",
          "state": {
            "_model_module": "@jupyter-widgets/controls",
            "_model_module_version": "1.5.0",
            "_model_name": "ProgressStyleModel",
            "_view_count": null,
            "_view_module": "@jupyter-widgets/base",
            "_view_module_version": "1.2.0",
            "_view_name": "StyleView",
            "bar_color": null,
            "description_width": ""
          }
        },
        "23b44c1f4b51453296e3243aff40d12d": {
          "model_module": "@jupyter-widgets/base",
          "model_name": "LayoutModel",
          "model_module_version": "1.2.0",
          "state": {
            "_model_module": "@jupyter-widgets/base",
            "_model_module_version": "1.2.0",
            "_model_name": "LayoutModel",
            "_view_count": null,
            "_view_module": "@jupyter-widgets/base",
            "_view_module_version": "1.2.0",
            "_view_name": "LayoutView",
            "align_content": null,
            "align_items": null,
            "align_self": null,
            "border": null,
            "bottom": null,
            "display": null,
            "flex": null,
            "flex_flow": null,
            "grid_area": null,
            "grid_auto_columns": null,
            "grid_auto_flow": null,
            "grid_auto_rows": null,
            "grid_column": null,
            "grid_gap": null,
            "grid_row": null,
            "grid_template_areas": null,
            "grid_template_columns": null,
            "grid_template_rows": null,
            "height": null,
            "justify_content": null,
            "justify_items": null,
            "left": null,
            "margin": null,
            "max_height": null,
            "max_width": null,
            "min_height": null,
            "min_width": null,
            "object_fit": null,
            "object_position": null,
            "order": null,
            "overflow": null,
            "overflow_x": null,
            "overflow_y": null,
            "padding": null,
            "right": null,
            "top": null,
            "visibility": null,
            "width": null
          }
        },
        "bfee087355bc4ead8a6b4c18389b9521": {
          "model_module": "@jupyter-widgets/controls",
          "model_name": "DescriptionStyleModel",
          "model_module_version": "1.5.0",
          "state": {
            "_model_module": "@jupyter-widgets/controls",
            "_model_module_version": "1.5.0",
            "_model_name": "DescriptionStyleModel",
            "_view_count": null,
            "_view_module": "@jupyter-widgets/base",
            "_view_module_version": "1.2.0",
            "_view_name": "StyleView",
            "description_width": ""
          }
        },
        "3318efaa1d5f45d7a5fbfc25100dfdb4": {
          "model_module": "@jupyter-widgets/controls",
          "model_name": "HBoxModel",
          "model_module_version": "1.5.0",
          "state": {
            "_dom_classes": [],
            "_model_module": "@jupyter-widgets/controls",
            "_model_module_version": "1.5.0",
            "_model_name": "HBoxModel",
            "_view_count": null,
            "_view_module": "@jupyter-widgets/controls",
            "_view_module_version": "1.5.0",
            "_view_name": "HBoxView",
            "box_style": "",
            "children": [
              "IPY_MODEL_753102e758f6480e936847aaa787c15d",
              "IPY_MODEL_f3886580dfdd4277bab368e2c7c1133a",
              "IPY_MODEL_8de0cc4fbc6543b98039fd55f9017b23"
            ],
            "layout": "IPY_MODEL_2b861d9b6b2a4a8983f860080d70e93a"
          }
        },
        "753102e758f6480e936847aaa787c15d": {
          "model_module": "@jupyter-widgets/controls",
          "model_name": "HTMLModel",
          "model_module_version": "1.5.0",
          "state": {
            "_dom_classes": [],
            "_model_module": "@jupyter-widgets/controls",
            "_model_module_version": "1.5.0",
            "_model_name": "HTMLModel",
            "_view_count": null,
            "_view_module": "@jupyter-widgets/controls",
            "_view_module_version": "1.5.0",
            "_view_name": "HTMLView",
            "description": "",
            "description_tooltip": null,
            "layout": "IPY_MODEL_fe1e216377d545dba58512ee0369f145",
            "placeholder": "​",
            "style": "IPY_MODEL_047657426ddf473bb6a29518bf8fff6d",
            "value": "Generating test split: 100%"
          }
        },
        "f3886580dfdd4277bab368e2c7c1133a": {
          "model_module": "@jupyter-widgets/controls",
          "model_name": "FloatProgressModel",
          "model_module_version": "1.5.0",
          "state": {
            "_dom_classes": [],
            "_model_module": "@jupyter-widgets/controls",
            "_model_module_version": "1.5.0",
            "_model_name": "FloatProgressModel",
            "_view_count": null,
            "_view_module": "@jupyter-widgets/controls",
            "_view_module_version": "1.5.0",
            "_view_name": "ProgressView",
            "bar_style": "success",
            "description": "",
            "description_tooltip": null,
            "layout": "IPY_MODEL_1d7ae46fbbfd4409bfe59c24a1b16c8e",
            "max": 7600,
            "min": 0,
            "orientation": "horizontal",
            "style": "IPY_MODEL_9132245b6d8d426c94984855b06570b6",
            "value": 7600
          }
        },
        "8de0cc4fbc6543b98039fd55f9017b23": {
          "model_module": "@jupyter-widgets/controls",
          "model_name": "HTMLModel",
          "model_module_version": "1.5.0",
          "state": {
            "_dom_classes": [],
            "_model_module": "@jupyter-widgets/controls",
            "_model_module_version": "1.5.0",
            "_model_name": "HTMLModel",
            "_view_count": null,
            "_view_module": "@jupyter-widgets/controls",
            "_view_module_version": "1.5.0",
            "_view_name": "HTMLView",
            "description": "",
            "description_tooltip": null,
            "layout": "IPY_MODEL_f08918b5823149138c6acde6a88e31dc",
            "placeholder": "​",
            "style": "IPY_MODEL_d209e907e68147fe8ac67102833a44d0",
            "value": " 7600/7600 [00:00&lt;00:00, 83924.29 examples/s]"
          }
        },
        "2b861d9b6b2a4a8983f860080d70e93a": {
          "model_module": "@jupyter-widgets/base",
          "model_name": "LayoutModel",
          "model_module_version": "1.2.0",
          "state": {
            "_model_module": "@jupyter-widgets/base",
            "_model_module_version": "1.2.0",
            "_model_name": "LayoutModel",
            "_view_count": null,
            "_view_module": "@jupyter-widgets/base",
            "_view_module_version": "1.2.0",
            "_view_name": "LayoutView",
            "align_content": null,
            "align_items": null,
            "align_self": null,
            "border": null,
            "bottom": null,
            "display": null,
            "flex": null,
            "flex_flow": null,
            "grid_area": null,
            "grid_auto_columns": null,
            "grid_auto_flow": null,
            "grid_auto_rows": null,
            "grid_column": null,
            "grid_gap": null,
            "grid_row": null,
            "grid_template_areas": null,
            "grid_template_columns": null,
            "grid_template_rows": null,
            "height": null,
            "justify_content": null,
            "justify_items": null,
            "left": null,
            "margin": null,
            "max_height": null,
            "max_width": null,
            "min_height": null,
            "min_width": null,
            "object_fit": null,
            "object_position": null,
            "order": null,
            "overflow": null,
            "overflow_x": null,
            "overflow_y": null,
            "padding": null,
            "right": null,
            "top": null,
            "visibility": null,
            "width": null
          }
        },
        "fe1e216377d545dba58512ee0369f145": {
          "model_module": "@jupyter-widgets/base",
          "model_name": "LayoutModel",
          "model_module_version": "1.2.0",
          "state": {
            "_model_module": "@jupyter-widgets/base",
            "_model_module_version": "1.2.0",
            "_model_name": "LayoutModel",
            "_view_count": null,
            "_view_module": "@jupyter-widgets/base",
            "_view_module_version": "1.2.0",
            "_view_name": "LayoutView",
            "align_content": null,
            "align_items": null,
            "align_self": null,
            "border": null,
            "bottom": null,
            "display": null,
            "flex": null,
            "flex_flow": null,
            "grid_area": null,
            "grid_auto_columns": null,
            "grid_auto_flow": null,
            "grid_auto_rows": null,
            "grid_column": null,
            "grid_gap": null,
            "grid_row": null,
            "grid_template_areas": null,
            "grid_template_columns": null,
            "grid_template_rows": null,
            "height": null,
            "justify_content": null,
            "justify_items": null,
            "left": null,
            "margin": null,
            "max_height": null,
            "max_width": null,
            "min_height": null,
            "min_width": null,
            "object_fit": null,
            "object_position": null,
            "order": null,
            "overflow": null,
            "overflow_x": null,
            "overflow_y": null,
            "padding": null,
            "right": null,
            "top": null,
            "visibility": null,
            "width": null
          }
        },
        "047657426ddf473bb6a29518bf8fff6d": {
          "model_module": "@jupyter-widgets/controls",
          "model_name": "DescriptionStyleModel",
          "model_module_version": "1.5.0",
          "state": {
            "_model_module": "@jupyter-widgets/controls",
            "_model_module_version": "1.5.0",
            "_model_name": "DescriptionStyleModel",
            "_view_count": null,
            "_view_module": "@jupyter-widgets/base",
            "_view_module_version": "1.2.0",
            "_view_name": "StyleView",
            "description_width": ""
          }
        },
        "1d7ae46fbbfd4409bfe59c24a1b16c8e": {
          "model_module": "@jupyter-widgets/base",
          "model_name": "LayoutModel",
          "model_module_version": "1.2.0",
          "state": {
            "_model_module": "@jupyter-widgets/base",
            "_model_module_version": "1.2.0",
            "_model_name": "LayoutModel",
            "_view_count": null,
            "_view_module": "@jupyter-widgets/base",
            "_view_module_version": "1.2.0",
            "_view_name": "LayoutView",
            "align_content": null,
            "align_items": null,
            "align_self": null,
            "border": null,
            "bottom": null,
            "display": null,
            "flex": null,
            "flex_flow": null,
            "grid_area": null,
            "grid_auto_columns": null,
            "grid_auto_flow": null,
            "grid_auto_rows": null,
            "grid_column": null,
            "grid_gap": null,
            "grid_row": null,
            "grid_template_areas": null,
            "grid_template_columns": null,
            "grid_template_rows": null,
            "height": null,
            "justify_content": null,
            "justify_items": null,
            "left": null,
            "margin": null,
            "max_height": null,
            "max_width": null,
            "min_height": null,
            "min_width": null,
            "object_fit": null,
            "object_position": null,
            "order": null,
            "overflow": null,
            "overflow_x": null,
            "overflow_y": null,
            "padding": null,
            "right": null,
            "top": null,
            "visibility": null,
            "width": null
          }
        },
        "9132245b6d8d426c94984855b06570b6": {
          "model_module": "@jupyter-widgets/controls",
          "model_name": "ProgressStyleModel",
          "model_module_version": "1.5.0",
          "state": {
            "_model_module": "@jupyter-widgets/controls",
            "_model_module_version": "1.5.0",
            "_model_name": "ProgressStyleModel",
            "_view_count": null,
            "_view_module": "@jupyter-widgets/base",
            "_view_module_version": "1.2.0",
            "_view_name": "StyleView",
            "bar_color": null,
            "description_width": ""
          }
        },
        "f08918b5823149138c6acde6a88e31dc": {
          "model_module": "@jupyter-widgets/base",
          "model_name": "LayoutModel",
          "model_module_version": "1.2.0",
          "state": {
            "_model_module": "@jupyter-widgets/base",
            "_model_module_version": "1.2.0",
            "_model_name": "LayoutModel",
            "_view_count": null,
            "_view_module": "@jupyter-widgets/base",
            "_view_module_version": "1.2.0",
            "_view_name": "LayoutView",
            "align_content": null,
            "align_items": null,
            "align_self": null,
            "border": null,
            "bottom": null,
            "display": null,
            "flex": null,
            "flex_flow": null,
            "grid_area": null,
            "grid_auto_columns": null,
            "grid_auto_flow": null,
            "grid_auto_rows": null,
            "grid_column": null,
            "grid_gap": null,
            "grid_row": null,
            "grid_template_areas": null,
            "grid_template_columns": null,
            "grid_template_rows": null,
            "height": null,
            "justify_content": null,
            "justify_items": null,
            "left": null,
            "margin": null,
            "max_height": null,
            "max_width": null,
            "min_height": null,
            "min_width": null,
            "object_fit": null,
            "object_position": null,
            "order": null,
            "overflow": null,
            "overflow_x": null,
            "overflow_y": null,
            "padding": null,
            "right": null,
            "top": null,
            "visibility": null,
            "width": null
          }
        },
        "d209e907e68147fe8ac67102833a44d0": {
          "model_module": "@jupyter-widgets/controls",
          "model_name": "DescriptionStyleModel",
          "model_module_version": "1.5.0",
          "state": {
            "_model_module": "@jupyter-widgets/controls",
            "_model_module_version": "1.5.0",
            "_model_name": "DescriptionStyleModel",
            "_view_count": null,
            "_view_module": "@jupyter-widgets/base",
            "_view_module_version": "1.2.0",
            "_view_name": "StyleView",
            "description_width": ""
          }
        }
      }
    }
  },
  "cells": [
    {
      "cell_type": "markdown",
      "source": [
        "# 🚀 Building a News Text Classifier with PyTorch\n",
        "\n",
        "In this notebook, we build a **document classification model** on the **AG News dataset**.  \n",
        "Our model classifies news articles into one of four categories:\n",
        "\n",
        "- 🌍 World  \n",
        "- 🏅 Sports  \n",
        "- 💼 Business  \n",
        "- 🔬 Science & Technology  \n",
        "\n",
        "We’ll cover the full pipeline:\n",
        "1. Dataset exploration  \n",
        "2. Preprocessing (tokenization & vocabulary)  \n",
        "3. Model definition (EmbeddingBag + Linear)  \n",
        "4. Training with validation & early stopping  \n",
        "5. Inference on test data and custom inputs  \n",
        "6. Evaluation with a confusion matrix  \n",
        "7. Conclusion & future directions"
      ],
      "metadata": {
        "id": "XB6-zFL5-rmv"
      }
    },
    {
      "cell_type": "markdown",
      "source": [
        "## ⚙️ Step 1: Setup & Reproducibility\n",
        "\n",
        "Before diving in, we set up dependencies and fix random seeds.  \n",
        "Reproducibility ensures consistent results when we re-run experiments.  \n",
        "\n",
        "- Installing libraries: PyTorch, TorchText, Hugging Face Datasets, scikit-learn, Matplotlib  \n",
        "- Setting random seeds for NumPy, Torch, and Python’s `random`\n"
      ],
      "metadata": {
        "id": "YTVnfJQb_ywF"
      }
    },
    {
      "cell_type": "code",
      "source": [
        "# Install dependencies\n",
        "!pip install -q torch torchvision torchaudio torchtext datasets scikit-learn matplotlib seaborn\n",
        "\n",
        "import os, random\n",
        "import numpy as np\n",
        "import torch\n",
        "import torch.nn as nn\n",
        "import torch.optim as optim\n",
        "\n",
        "from datasets import load_dataset\n",
        "from torch.utils.data import DataLoader\n",
        "from sklearn.metrics import accuracy_score, f1_score, confusion_matrix\n",
        "import matplotlib.pyplot as plt\n",
        "import seaborn as sns\n",
        "\n",
        "# reproducibility\n",
        "def set_seed(seed: int = 42):\n",
        "    random.seed(seed)\n",
        "    np.random.seed(seed)\n",
        "    torch.manual_seed(seed)\n",
        "    torch.cuda.manual_seed_all(seed)\n",
        "    torch.backends.cudnn.deterministic = True\n",
        "    torch.backends.cudnn.benchmark = False\n",
        "\n",
        "SEED = 42\n",
        "set_seed(SEED)\n",
        "\n",
        "device = torch.device(\"cuda\" if torch.cuda.is_available() else \"cpu\")\n",
        "print(f\"✅ PyTorch version: {torch.__version__}\")\n",
        "print(f\"✅ Device in use: {device}\")\n"
      ],
      "metadata": {
        "colab": {
          "base_uri": "https://localhost:8080/",
          "height": 0
        },
        "id": "_eyyuYdd-9eP",
        "outputId": "c11c9bf9-2728-4bf7-cdf7-9d310e3d2db0"
      },
      "execution_count": 2,
      "outputs": [
        {
          "output_type": "stream",
          "name": "stdout",
          "text": [
            "\u001b[?25l   \u001b[90m━━━━━━━━━━━━━━━━━━━━━━━━━━━━━━━━━━━━━━━━\u001b[0m \u001b[32m0.0/2.0 MB\u001b[0m \u001b[31m?\u001b[0m eta \u001b[36m-:--:--\u001b[0m\r\u001b[2K   \u001b[91m━━━━━━━━━━━━━━━━\u001b[0m\u001b[90m╺\u001b[0m\u001b[90m━━━━━━━━━━━━━━━━━━━━━━━\u001b[0m \u001b[32m0.8/2.0 MB\u001b[0m \u001b[31m24.2 MB/s\u001b[0m eta \u001b[36m0:00:01\u001b[0m\r\u001b[2K   \u001b[90m━━━━━━━━━━━━━━━━━━━━━━━━━━━━━━━━━━━━━━━━\u001b[0m \u001b[32m2.0/2.0 MB\u001b[0m \u001b[31m33.0 MB/s\u001b[0m eta \u001b[36m0:00:00\u001b[0m\n",
            "\u001b[?25h✅ PyTorch version: 2.8.0+cu126\n",
            "✅ Device in use: cuda\n"
          ]
        }
      ]
    },
    {
      "cell_type": "markdown",
      "source": [
        "## 📊 Step 2: Load & Explore the Dataset\n",
        "\n",
        "We’ll use the **AG News dataset**, a popular benchmark for text classification.  \n",
        "\n",
        "- **Size:** ~120,000 training samples, 7,600 test samples  \n",
        "- **Classes:** World, Sports, Business, Sci/Tech  \n",
        "- Balanced dataset: ~30K samples per class  \n",
        "\n",
        "Let’s explore the dataset structure and visualize class distribution."
      ],
      "metadata": {
        "id": "-oO_WZxJBGqg"
      }
    },
    {
      "cell_type": "code",
      "source": [
        "# Load AG News Dataset\n",
        "ag_news = load_dataset(\"ag_news\")\n",
        "\n",
        "print(\"Dataset Structure:\")\n",
        "print(ag_news)\n",
        "\n",
        "# Class labels mapping\n",
        "label_names = ag_news[\"train\"].features[\"label\"].names\n",
        "print(f\"\\nLabel names: {label_names}\")\n",
        "\n",
        "# Look at few samples\n",
        "for i in range(3):\n",
        "  print(f\"Sample {i+1}\")\n",
        "  print(f\"Label: {label_names[ag_news['train'][i]['label']]}\")\n",
        "  print(f\"Text: {ag_news['train'][i]['text'][:200]}....\")"
      ],
      "metadata": {
        "colab": {
          "base_uri": "https://localhost:8080/",
          "height": 465,
          "referenced_widgets": [
            "4db68b7fc7b24bac96f42f74f44c632d",
            "7eec1538d1e0407487781a40484c390a",
            "2e5d7818087d470bbd1bd98324b9e38d",
            "f6b5f57cbbae4e72812deb06261d4d16",
            "aadeb68aa0d24b86a470214d20e98697",
            "c790d7818258499788ed498cd7c6df62",
            "9197c08cc7674386a807376699e123a5",
            "22748acc05154586996a560b657dc70c",
            "c54c8f507cbb421ea3dea2163b2bcde6",
            "1f47b3ed3ada4b28bb4e7813c4b8f7f1",
            "f55cf95bd59b48e0963348d1c5383f85",
            "2abc0fae5a2342c9905306e53059fef4",
            "7243ecc603464c2494ff195cd45bf827",
            "0bc048e23c304e9fbdfc3f3f10b08297",
            "0ed8c058220f47e4aa640a6c020bb38c",
            "6bc025064ccc48b0859f0b57bca2b3fb",
            "f3d3d52237d74c0e9d51183e7e5cf3de",
            "5b9a108623da46b196b25497db5003c1",
            "60a10a624ac64eb5958fae1a405d8184",
            "68320b4fc39547a990df1a1d2d48bf35",
            "2d67658c938c40cebdd738d051a674a3",
            "4fd56c28a3f548369ffb1ae7599053ef",
            "3d03c436775e4ebdbfa187bac0c8ae7b",
            "be939b0346e34c9b9c8d8cfe73042152",
            "b0aeb1d91ebc468887ef61bdf0881aec",
            "5dd914cc4e764dc1a8e86f45d412634d",
            "9de8418816814bffaa4bf017b05b2f85",
            "a419aa37421846f4b0e066c0058b077c",
            "ed1590f935bb4887bdbcff21d552b619",
            "905d9dc6fc4549e0a2dfac606767f863",
            "a4743e073eaa49408d8021d9edd42ba7",
            "a747066e1ba24c9882e39b391fde1bbc",
            "66fdfa16ce674b74980bcad6f3db36fd",
            "0d135ab41b2345c2b655f719d6432664",
            "7b490e57824d4894b85a1645bb6ea499",
            "e741ec3e166f497c8a0df780c8f838c5",
            "7491169448ce44879b55ea3d0168c2da",
            "97913ac7329c4454a012e532535fcfbc",
            "be89def4fd904b369d2a2fee36067df0",
            "b3feb730bd15495abaf0aae41aa8137d",
            "3d95a2b4b66e4d30b28b5143dc338641",
            "274d555b0ec8470d83e25459d8acb57b",
            "23b44c1f4b51453296e3243aff40d12d",
            "bfee087355bc4ead8a6b4c18389b9521",
            "3318efaa1d5f45d7a5fbfc25100dfdb4",
            "753102e758f6480e936847aaa787c15d",
            "f3886580dfdd4277bab368e2c7c1133a",
            "8de0cc4fbc6543b98039fd55f9017b23",
            "2b861d9b6b2a4a8983f860080d70e93a",
            "fe1e216377d545dba58512ee0369f145",
            "047657426ddf473bb6a29518bf8fff6d",
            "1d7ae46fbbfd4409bfe59c24a1b16c8e",
            "9132245b6d8d426c94984855b06570b6",
            "f08918b5823149138c6acde6a88e31dc",
            "d209e907e68147fe8ac67102833a44d0"
          ]
        },
        "id": "q6RgvxL2ADQU",
        "outputId": "907962e3-b2a5-424d-b96c-ea1d181ab755"
      },
      "execution_count": 3,
      "outputs": [
        {
          "output_type": "stream",
          "name": "stderr",
          "text": [
            "/usr/local/lib/python3.12/dist-packages/huggingface_hub/utils/_auth.py:94: UserWarning: \n",
            "The secret `HF_TOKEN` does not exist in your Colab secrets.\n",
            "To authenticate with the Hugging Face Hub, create a token in your settings tab (https://huggingface.co/settings/tokens), set it as secret in your Google Colab and restart your session.\n",
            "You will be able to reuse this secret in all of your notebooks.\n",
            "Please note that authentication is recommended but still optional to access public models or datasets.\n",
            "  warnings.warn(\n"
          ]
        },
        {
          "output_type": "display_data",
          "data": {
            "text/plain": [
              "README.md: 0.00B [00:00, ?B/s]"
            ],
            "application/vnd.jupyter.widget-view+json": {
              "version_major": 2,
              "version_minor": 0,
              "model_id": "4db68b7fc7b24bac96f42f74f44c632d"
            }
          },
          "metadata": {}
        },
        {
          "output_type": "display_data",
          "data": {
            "text/plain": [
              "train-00000-of-00001.parquet:   0%|          | 0.00/18.6M [00:00<?, ?B/s]"
            ],
            "application/vnd.jupyter.widget-view+json": {
              "version_major": 2,
              "version_minor": 0,
              "model_id": "2abc0fae5a2342c9905306e53059fef4"
            }
          },
          "metadata": {}
        },
        {
          "output_type": "display_data",
          "data": {
            "text/plain": [
              "test-00000-of-00001.parquet:   0%|          | 0.00/1.23M [00:00<?, ?B/s]"
            ],
            "application/vnd.jupyter.widget-view+json": {
              "version_major": 2,
              "version_minor": 0,
              "model_id": "3d03c436775e4ebdbfa187bac0c8ae7b"
            }
          },
          "metadata": {}
        },
        {
          "output_type": "display_data",
          "data": {
            "text/plain": [
              "Generating train split:   0%|          | 0/120000 [00:00<?, ? examples/s]"
            ],
            "application/vnd.jupyter.widget-view+json": {
              "version_major": 2,
              "version_minor": 0,
              "model_id": "0d135ab41b2345c2b655f719d6432664"
            }
          },
          "metadata": {}
        },
        {
          "output_type": "display_data",
          "data": {
            "text/plain": [
              "Generating test split:   0%|          | 0/7600 [00:00<?, ? examples/s]"
            ],
            "application/vnd.jupyter.widget-view+json": {
              "version_major": 2,
              "version_minor": 0,
              "model_id": "3318efaa1d5f45d7a5fbfc25100dfdb4"
            }
          },
          "metadata": {}
        },
        {
          "output_type": "stream",
          "name": "stdout",
          "text": [
            "Dataset Structure:\n",
            "DatasetDict({\n",
            "    train: Dataset({\n",
            "        features: ['text', 'label'],\n",
            "        num_rows: 120000\n",
            "    })\n",
            "    test: Dataset({\n",
            "        features: ['text', 'label'],\n",
            "        num_rows: 7600\n",
            "    })\n",
            "})\n",
            "\n",
            "Label names: ['World', 'Sports', 'Business', 'Sci/Tech']\n",
            "Sample 1\n",
            "Label: Business\n",
            "Text: Wall St. Bears Claw Back Into the Black (Reuters) Reuters - Short-sellers, Wall Street's dwindling\\band of ultra-cynics, are seeing green again.....\n",
            "Sample 2\n",
            "Label: Business\n",
            "Text: Carlyle Looks Toward Commercial Aerospace (Reuters) Reuters - Private investment firm Carlyle Group,\\which has a reputation for making well-timed and occasionally\\controversial plays in the defense in....\n",
            "Sample 3\n",
            "Label: Business\n",
            "Text: Oil and Economy Cloud Stocks' Outlook (Reuters) Reuters - Soaring crude prices plus worries\\about the economy and the outlook for earnings are expected to\\hang over the stock market next week during t....\n"
          ]
        }
      ]
    },
    {
      "cell_type": "code",
      "source": [
        "labels = [example[\"label\"] for example in ag_news[\"train\"]]\n",
        "plt.figure(figsize=(6,4))\n",
        "sns.countplot(x=labels, palette=\"flare\")\n",
        "plt.xticks(range(len(label_names)), label_names)\n",
        "plt.title(\"Class Distribution in AG News\")\n",
        "plt.ylabel(\"Count\")\n",
        "plt.show()"
      ],
      "metadata": {
        "colab": {
          "base_uri": "https://localhost:8080/",
          "height": 460
        },
        "id": "_2JvvlZfBWjI",
        "outputId": "92e6d02a-c905-4720-aff3-79bd81f373cc"
      },
      "execution_count": 4,
      "outputs": [
        {
          "output_type": "stream",
          "name": "stderr",
          "text": [
            "/tmp/ipython-input-96407012.py:3: FutureWarning: \n",
            "\n",
            "Passing `palette` without assigning `hue` is deprecated and will be removed in v0.14.0. Assign the `x` variable to `hue` and set `legend=False` for the same effect.\n",
            "\n",
            "  sns.countplot(x=labels, palette=\"flare\")\n"
          ]
        },
        {
          "output_type": "display_data",
          "data": {
            "text/plain": [
              "<Figure size 600x400 with 1 Axes>"
            ],
            "image/png": "[encoded data removed]"
          },
          "metadata": {}
        }
      ]
    },
    {
      "cell_type": "markdown",
      "source": [
        "✅ **Observation:** The dataset is balanced across all 4 categories (~30K each).  \n",
        "This balance ensures that the model won’t be biased toward any specific class."
      ],
      "metadata": {
        "id": "3JvAKESH8rYf"
      }
    },
    {
      "cell_type": "markdown",
      "source": [
        "## 🔡 Step 3: Preprocessing with Tokenizer + Manual Vocabulary\n",
        "\n",
        "Neural networks can’t work directly with raw text — we need to convert words into numbers.  \n",
        "\n",
        "Our preprocessing pipeline:  \n",
        "1. **Tokenization** → split text into lowercase tokens  \n",
        "2. **Vocabulary building** → map each token to a unique integer ID  \n",
        "3. **Handling unknowns** → add `<unk>` for words not seen during training  \n",
        "4. **Numericalization** → convert token list into a sequence of IDs\n",
        "\n",
        "Example:  \n",
        "`\"The stock market is soaring\"` → `['the', 'stock', 'market', 'is', 'soaring']` → `[8, 72, 55, 185, 61]`\n"
      ],
      "metadata": {
        "id": "Y_QGtTdrF2gR"
      }
    },
    {
      "cell_type": "code",
      "source": [
        "import re\n",
        "from collections import Counter\n",
        "\n",
        "# 1. Basic tokenizer (lowercase + split on non-alphabetic chars)\n",
        "def simple_tokenizer(text):\n",
        "    return re.findall(r\"\\b\\w+\\b\", text.lower())\n",
        "\n",
        "# 2. Build vocabulary\n",
        "def build_vocab(dataset, min_freq=2):\n",
        "    counter = Counter()\n",
        "    for example in dataset:\n",
        "        tokens = simple_tokenizer(example[\"text\"])\n",
        "        counter.update(tokens)\n",
        "    # keep words with freq >= min_freq\n",
        "    vocab = {\"<unk>\":0, \"<pad>\":1}\n",
        "    for word, freq in counter.items():\n",
        "        if freq >= min_freq:\n",
        "            vocab[word] = len(vocab)\n",
        "    return vocab\n",
        "\n",
        "vocab = build_vocab(ag_news[\"train\"])\n",
        "print(f\"Vocab size: {len(vocab)}\")\n",
        "\n",
        "# 3. Numericalize\n",
        "def numericalize(tokens, vocab):\n",
        "    return [vocab.get(token, vocab[\"<unk>\"]) for token in tokens]\n"
      ],
      "metadata": {
        "colab": {
          "base_uri": "https://localhost:8080/",
          "height": 0
        },
        "id": "nK4ii26xDIXf",
        "outputId": "c039ceeb-b5dd-4302-c822-00ceb3a4e61b"
      },
      "execution_count": 5,
      "outputs": [
        {
          "output_type": "stream",
          "name": "stdout",
          "text": [
            "Vocab size: 44120\n"
          ]
        }
      ]
    },
    {
      "cell_type": "code",
      "source": [
        "# Test on sample\n",
        "sample_text = \"The stock market is soaring\"\n",
        "tokens = simple_tokenizer(sample_text)\n",
        "ids = numericalize(tokens, vocab)\n",
        "\n",
        "print(\"Text:\", sample_text)\n",
        "print(\"Tokens:\", tokens)\n",
        "print(\"Token IDs:\", ids)"
      ],
      "metadata": {
        "colab": {
          "base_uri": "https://localhost:8080/",
          "height": 0
        },
        "id": "o7JuUelqGJQu",
        "outputId": "df819b2e-7186-40fd-f7aa-899e223b691b"
      },
      "execution_count": 6,
      "outputs": [
        {
          "output_type": "stream",
          "name": "stdout",
          "text": [
            "Text: The stock market is soaring\n",
            "Tokens: ['the', 'stock', 'market', 'is', 'soaring']\n",
            "Token IDs: [8, 72, 55, 185, 61]\n"
          ]
        }
      ]
    },
    {
      "cell_type": "markdown",
      "source": [
        "## 🔄 Step 4: Collate Function for DataLoader\n",
        "\n",
        "The **collate function** defines how individual samples are combined into a batch.  \n",
        "\n",
        "For text classification with `EmbeddingBag`, we need to return:\n",
        "- `text` → concatenated token IDs of all docs in the batch  \n",
        "- `offsets` → start index of each doc in the `text` tensor  \n",
        "- `labels` → true class labels for each doc  \n",
        "\n",
        "This allows `EmbeddingBag` to efficiently compute embeddings without padding.\n"
      ],
      "metadata": {
        "id": "w8PO_TY2I9Iq"
      }
    },
    {
      "cell_type": "code",
      "source": [
        "# Helper: process a single example\n",
        "def process_text(text, vocab):\n",
        "    tokens = simple_tokenizer(text)\n",
        "    ids = numericalize(tokens, vocab)\n",
        "    return torch.tensor(ids, dtype=torch.long)\n",
        "\n",
        "# Collate function for DataLoader\n",
        "def collate_batch(batch):\n",
        "    label_list, text_list, offsets = [], [], [0]\n",
        "    for example in batch:\n",
        "        label_list.append(example[\"label\"])\n",
        "        processed_text = process_text(example[\"text\"], vocab)\n",
        "        text_list.append(processed_text)\n",
        "        offsets.append(processed_text.size(0))\n",
        "    # Flatten all text into one tensor\n",
        "    labels = torch.tensor(label_list, dtype=torch.long)\n",
        "    offsets = torch.tensor(offsets[:-1]).cumsum(dim=0)\n",
        "    text = torch.cat(text_list)\n",
        "    return text, offsets, labels"
      ],
      "metadata": {
        "id": "3XNoACCoHv4f"
      },
      "execution_count": 7,
      "outputs": []
    },
    {
      "cell_type": "code",
      "source": [
        "# Quick Test\n",
        "train_iter = ag_news[\"train\"]\n",
        "\n",
        "train_loader = DataLoader(train_iter, batch_size=4, shuffle=True, collate_fn=collate_batch)\n",
        "\n",
        "# Test one batch\n",
        "for text, offsets, labels in train_loader:\n",
        "    print(\"Text tensor:\", text)\n",
        "    print(\"Offsets:\", offsets)\n",
        "    print(\"Labels:\", labels)\n",
        "    break\n"
      ],
      "metadata": {
        "colab": {
          "base_uri": "https://localhost:8080/",
          "height": 0
        },
        "id": "AEf1fAXOK1Nl",
        "outputId": "16b01095-5123-472b-99fc-e05deab146f4"
      },
      "execution_count": 8,
      "outputs": [
        {
          "output_type": "stream",
          "name": "stdout",
          "text": [
            "Text tensor: tensor([ 7965, 11603,    45, 10377, 17475,  7968,  7965,  3115, 10157,  1606,\n",
            "           23,   136,   657,  5575,     7,     8,  4855,  8411,    14,   451,\n",
            "         5252,   201, 22165, 22166,    52,  1282,     8,  2341,  4152,  6668,\n",
            "         4785,   859,    45,  6067,   223,   873,  1101,   591,    37,  9888,\n",
            "         8411,    14, 27189, 10377,   775,  2150,  1694,    69,   872,  5957,\n",
            "           82, 15403,   287,  1303,    10,    10,  5323,   775,  2150,   477,\n",
            "          872,  2147,  1606,     8, 16234, 10164,  4556,    45, 15403,    41,\n",
            "            8,   112,  1970,  2101,    69,   872,   276,  2954,    45,     8,\n",
            "         1549,  1005,     8,   344,    17,     8,   287,  1303,  4601,  1243,\n",
            "          101,    52,  1333,  1998,  1208,  4053,  2957,   512,  5554,   408,\n",
            "         8411,    14,   579,    35,  1830,  1692,  1689,  3628,  3295,   226,\n",
            "         7326, 28391,   136,   585, 23103,    71,  9130,    41, 14144, 13130,\n",
            "           45,   512,  8411,    14, 43401, 14171,  7117,  7118,    37,   646,\n",
            "           14,  2853,  2775,  2857,  2498,   325,  1181,    39,   321,   104,\n",
            "         2414,   650,  4634,    14,   478,  3890,  1994,    52,  2233,   198,\n",
            "         1408,    69,   326,  2485])\n",
            "Offsets: tensor([  0,  44,  93, 126])\n",
            "Labels: tensor([1, 3, 3, 3])\n"
          ]
        }
      ]
    },
    {
      "cell_type": "markdown",
      "source": [
        "## 🏗️ Step 6: Defining the Text Classifier Model\n",
        "\n",
        "Our model is intentionally simple:  \n",
        "\n",
        "1. **EmbeddingBag Layer**  \n",
        "   - Converts tokens to embeddings  \n",
        "   - Aggregates them (mean) into a single vector per document  \n",
        "\n",
        "2. **Linear Layer**  \n",
        "   - Maps each document vector to class logits  \n",
        "\n",
        "### Flow of tensor shapes\n",
        "- Input tokens → `[batch_size, variable_length]`  \n",
        "- EmbeddingBag → `[batch_size, embed_dim]`  \n",
        "- Linear → `[batch_size, num_classes]`  "
      ],
      "metadata": {
        "id": "o3whdourckKY"
      }
    },
    {
      "cell_type": "code",
      "source": [
        "class TextClassifier(nn.Module):\n",
        "    def __init__(self, vocab_size, embed_dim, num_classes):\n",
        "          super(TextClassifier, self).__init__()\n",
        "          self.embedding = nn.EmbeddingBag(vocab_size, embed_dim, sparse=True)\n",
        "          self.fc = nn.Linear(embed_dim, num_classes)\n",
        "          self.init_weights()\n",
        "\n",
        "    def init_weights(self):\n",
        "          # Initialize embeddings and linear layer weights\n",
        "          initrange = 1.0 / (self.embedding.embedding_dim ** 0.5)\n",
        "          self.embedding.weight.data.uniform_(-initrange, initrange)\n",
        "          self.fc.weight.data.uniform_(-initrange, initrange)\n",
        "          self.fc.bias.data.zero_()\n",
        "\n",
        "    def forward(self, text, offsets):\n",
        "          embedded = self.embedding(text, offsets)  # [batch_size, embed_dim]\n",
        "          return self.fc(embedded)                  # [batch_size, num_classes]"
      ],
      "metadata": {
        "id": "SVBZOHKmLQS9"
      },
      "execution_count": 9,
      "outputs": []
    },
    {
      "cell_type": "markdown",
      "source": [
        "## 🔄 Step 7: Training Loop (One Epoch)\n",
        "\n",
        "Now we implement the core training logic:  \n",
        "\n",
        "1. Switch model to **training mode**  \n",
        "2. Loop over batches:  \n",
        "   - Forward pass → compute predictions  \n",
        "   - Compute loss with `CrossEntropyLoss`  \n",
        "   - Backward pass → compute gradients  \n",
        "   - Optimizer step → update weights  \n",
        "3. Track average training loss for the epoch  \n",
        "\n",
        "This step demonstrates how learning happens in PyTorch."
      ],
      "metadata": {
        "id": "g8OmSdNnfaXN"
      }
    },
    {
      "cell_type": "code",
      "source": [
        "# Model, loss, optimizer\n",
        "embed_dim = 64\n",
        "num_classes = len(label_names)  # 4 for AG News\n",
        "model = TextClassifier(len(vocab), embed_dim, num_classes)\n",
        "\n",
        "criterion = nn.CrossEntropyLoss()\n",
        "optimizer = optim.SGD(model.parameters(), lr=0.01)\n",
        "\n",
        "# Training loop (1 epoch)\n",
        "def train_one_epoch(model, dataloader, criterion, optimizer):\n",
        "    model.train()   # set training mode\n",
        "    total_loss = 0\n",
        "    for text, offsets, labels in dataloader:\n",
        "        # Forward pass\n",
        "        outputs = model(text, offsets)      # [batch_size, num_classes]\n",
        "        loss = criterion(outputs, labels)   # scalar loss\n",
        "\n",
        "        # Backward + Optimize\n",
        "        optimizer.zero_grad()   # reset old gradients\n",
        "        loss.backward()         # compute new gradients\n",
        "        optimizer.step()        # update weights\n",
        "\n",
        "        total_loss += loss.item()\n",
        "\n",
        "    avg_loss = total_loss / len(dataloader)\n",
        "    return avg_loss\n",
        "\n",
        "# Try training for 1 epoch\n",
        "train_loader = DataLoader(\n",
        "    ag_news[\"train\"], batch_size=16, shuffle=True, collate_fn=collate_batch\n",
        ")\n",
        "\n",
        "avg_loss = train_one_epoch(model, train_loader, criterion, optimizer)\n",
        "print(f\"Average training loss after 1 epoch: {avg_loss:.4f}\")\n"
      ],
      "metadata": {
        "colab": {
          "base_uri": "https://localhost:8080/",
          "height": 0
        },
        "id": "l4k2iswoe7pd",
        "outputId": "27a49039-7b54-4f89-c522-837f80fe4fd6"
      },
      "execution_count": 10,
      "outputs": [
        {
          "output_type": "stream",
          "name": "stdout",
          "text": [
            "Average training loss after 1 epoch: 1.3848\n"
          ]
        }
      ]
    },
    {
      "cell_type": "markdown",
      "source": [
        "## 🧪 Step 8: Validation\n",
        "\n",
        "After training an epoch, we check performance on the validation set.  \n",
        "\n",
        "- Switch to **evaluation mode** (`model.eval()`)  \n",
        "- Disable gradients with `torch.no_grad()`  \n",
        "- Compute:  \n",
        "  - Validation loss  \n",
        "  - Validation accuracy  \n",
        "\n",
        "This helps track whether the model is improving and prevents overfitting."
      ],
      "metadata": {
        "id": "NUndrDCaf-YV"
      }
    },
    {
      "cell_type": "code",
      "source": [
        "def evaluate(model, dataloader, criterion):\n",
        "    model.eval()   # set evaluation mode\n",
        "    total_loss, correct, total = 0, 0, 0\n",
        "\n",
        "    with torch.no_grad():  # no gradients in eval\n",
        "        for text, offsets, labels in dataloader:\n",
        "            outputs = model(text, offsets)          # [batch_size, num_classes]\n",
        "            loss = criterion(outputs, labels)\n",
        "            total_loss += loss.item()\n",
        "\n",
        "            preds = outputs.argmax(dim=1)           # predicted class\n",
        "            correct += (preds == labels).sum().item()\n",
        "            total += labels.size(0)\n",
        "\n",
        "    avg_loss = total_loss / len(dataloader)\n",
        "    accuracy = correct / total\n",
        "    return avg_loss, accuracy\n",
        "\n",
        "# Validation loader (use test set here as validation for now)\n",
        "valid_loader = DataLoader(\n",
        "    ag_news[\"test\"], batch_size=16, shuffle=False, collate_fn=collate_batch\n",
        ")\n",
        "\n",
        "val_loss, val_acc = evaluate(model, valid_loader, criterion)\n",
        "print(f\"Validation loss: {val_loss:.4f}, Accuracy: {val_acc:.4f}\")\n"
      ],
      "metadata": {
        "colab": {
          "base_uri": "https://localhost:8080/",
          "height": 0
        },
        "id": "vMd4C0pgfp0F",
        "outputId": "b6338c24-5034-4714-afe4-9acb0cf715f4"
      },
      "execution_count": 11,
      "outputs": [
        {
          "output_type": "stream",
          "name": "stdout",
          "text": [
            "Validation loss: 1.3829, Accuracy: 0.4101\n"
          ]
        }
      ]
    },
    {
      "cell_type": "markdown",
      "source": [
        "## 🔁 Step 9: Multi-Epoch Training with Early Stopping\n",
        "\n",
        "Now we combine training and validation into a full training loop.  \n",
        "\n",
        "Features:  \n",
        "- Train up to N epochs (max 30)  \n",
        "- Stop early if validation loss doesn’t improve for 3 consecutive epochs  \n",
        "- Save the best model as `best_model.pth`  \n",
        "- Track losses and accuracy across epochs  \n",
        "\n",
        "This gives us both **efficient training** and **reliable results**."
      ],
      "metadata": {
        "id": "em3o5jbUgWBc"
      }
    },
    {
      "cell_type": "code",
      "source": [
        "def train_with_early_stopping(\n",
        "    model, train_loader, valid_loader, criterion, optimizer,\n",
        "    num_epochs=30, patience=3\n",
        "):\n",
        "    best_val_loss = float(\"inf\")\n",
        "    patience_counter = 0\n",
        "\n",
        "    train_losses, val_losses, val_accs = [], [], []\n",
        "\n",
        "    for epoch in range(num_epochs):\n",
        "        # Training\n",
        "        train_loss = train_one_epoch(model, train_loader, criterion, optimizer)\n",
        "\n",
        "        # Validation\n",
        "        val_loss, val_acc = evaluate(model, valid_loader, criterion)\n",
        "\n",
        "        train_losses.append(train_loss)\n",
        "        val_losses.append(val_loss)\n",
        "        val_accs.append(val_acc)\n",
        "\n",
        "        print(f\"Epoch {epoch+1}/{num_epochs} | \"\n",
        "              f\"Train Loss: {train_loss:.4f} | \"\n",
        "              f\"Val Loss: {val_loss:.4f} | \"\n",
        "              f\"Val Acc: {val_acc:.4f}\")\n",
        "\n",
        "        # Check improvement\n",
        "        if val_loss < best_val_loss:\n",
        "            best_val_loss = val_loss\n",
        "            patience_counter = 0\n",
        "            torch.save(model.state_dict(), \"best_model.pth\")\n",
        "            print(\"  ✅ Validation loss improved, model saved!\")\n",
        "        else:\n",
        "            patience_counter += 1\n",
        "            print(f\"  ⚠️ No improvement. Patience: {patience_counter}/{patience}\")\n",
        "\n",
        "            if patience_counter >= patience:\n",
        "                print(\"⏹️ Early stopping triggered!\")\n",
        "                break\n",
        "\n",
        "    return train_losses, val_losses, val_accs\n"
      ],
      "metadata": {
        "id": "iVf98aWTjbCF"
      },
      "execution_count": 16,
      "outputs": []
    },
    {
      "cell_type": "code",
      "source": [
        "# Fresh model\n",
        "model = TextClassifier(len(vocab), embed_dim=64, num_classes=len(label_names))\n",
        "criterion = nn.CrossEntropyLoss()\n",
        "optimizer = torch.optim.SGD(model.parameters(), lr=0.01)\n",
        "\n",
        "# Train with early stopping\n",
        "train_losses, val_losses, val_accs = train_with_early_stopping(\n",
        "    model, train_loader, valid_loader, criterion, optimizer,\n",
        "    num_epochs=30, patience=3\n",
        ")"
      ],
      "metadata": {
        "colab": {
          "base_uri": "https://localhost:8080/",
          "height": 0
        },
        "id": "cvSioC1KkKsC",
        "outputId": "c1a0b289-4151-4c62-f407-5ac167272468"
      },
      "execution_count": 17,
      "outputs": [
        {
          "output_type": "stream",
          "name": "stdout",
          "text": [
            "Epoch 1/30 | Train Loss: 1.3852 | Val Loss: 1.3833 | Val Acc: 0.3809\n",
            "  ✅ Validation loss improved, model saved!\n",
            "Epoch 2/30 | Train Loss: 1.3809 | Val Loss: 1.3781 | Val Acc: 0.3105\n",
            "  ✅ Validation loss improved, model saved!\n",
            "Epoch 3/30 | Train Loss: 1.3733 | Val Loss: 1.3677 | Val Acc: 0.5064\n",
            "  ✅ Validation loss improved, model saved!\n",
            "Epoch 4/30 | Train Loss: 1.3583 | Val Loss: 1.3472 | Val Acc: 0.5341\n",
            "  ✅ Validation loss improved, model saved!\n",
            "Epoch 5/30 | Train Loss: 1.3298 | Val Loss: 1.3099 | Val Acc: 0.5626\n",
            "  ✅ Validation loss improved, model saved!\n",
            "Epoch 6/30 | Train Loss: 1.2817 | Val Loss: 1.2509 | Val Acc: 0.5833\n",
            "  ✅ Validation loss improved, model saved!\n",
            "Epoch 7/30 | Train Loss: 1.2119 | Val Loss: 1.1710 | Val Acc: 0.6249\n",
            "  ✅ Validation loss improved, model saved!\n",
            "Epoch 8/30 | Train Loss: 1.1237 | Val Loss: 1.0766 | Val Acc: 0.6643\n",
            "  ✅ Validation loss improved, model saved!\n",
            "Epoch 9/30 | Train Loss: 1.0257 | Val Loss: 0.9774 | Val Acc: 0.6987\n",
            "  ✅ Validation loss improved, model saved!\n",
            "Epoch 10/30 | Train Loss: 0.9285 | Val Loss: 0.8846 | Val Acc: 0.7250\n",
            "  ✅ Validation loss improved, model saved!\n",
            "Epoch 11/30 | Train Loss: 0.8403 | Val Loss: 0.8031 | Val Acc: 0.7489\n",
            "  ✅ Validation loss improved, model saved!\n",
            "Epoch 12/30 | Train Loss: 0.7641 | Val Loss: 0.7342 | Val Acc: 0.7700\n",
            "  ✅ Validation loss improved, model saved!\n",
            "Epoch 13/30 | Train Loss: 0.6999 | Val Loss: 0.6772 | Val Acc: 0.7875\n",
            "  ✅ Validation loss improved, model saved!\n",
            "Epoch 14/30 | Train Loss: 0.6468 | Val Loss: 0.6300 | Val Acc: 0.7999\n",
            "  ✅ Validation loss improved, model saved!\n",
            "Epoch 15/30 | Train Loss: 0.6028 | Val Loss: 0.5912 | Val Acc: 0.8134\n",
            "  ✅ Validation loss improved, model saved!\n",
            "Epoch 16/30 | Train Loss: 0.5663 | Val Loss: 0.5591 | Val Acc: 0.8262\n",
            "  ✅ Validation loss improved, model saved!\n",
            "Epoch 17/30 | Train Loss: 0.5358 | Val Loss: 0.5324 | Val Acc: 0.8321\n",
            "  ✅ Validation loss improved, model saved!\n",
            "Epoch 18/30 | Train Loss: 0.5102 | Val Loss: 0.5102 | Val Acc: 0.8382\n",
            "  ✅ Validation loss improved, model saved!\n",
            "Epoch 19/30 | Train Loss: 0.4884 | Val Loss: 0.4909 | Val Acc: 0.8447\n",
            "  ✅ Validation loss improved, model saved!\n",
            "Epoch 20/30 | Train Loss: 0.4697 | Val Loss: 0.4746 | Val Acc: 0.8496\n",
            "  ✅ Validation loss improved, model saved!\n",
            "Epoch 21/30 | Train Loss: 0.4536 | Val Loss: 0.4604 | Val Acc: 0.8549\n",
            "  ✅ Validation loss improved, model saved!\n",
            "Epoch 22/30 | Train Loss: 0.4394 | Val Loss: 0.4479 | Val Acc: 0.8597\n",
            "  ✅ Validation loss improved, model saved!\n",
            "Epoch 23/30 | Train Loss: 0.4270 | Val Loss: 0.4371 | Val Acc: 0.8620\n",
            "  ✅ Validation loss improved, model saved!\n",
            "Epoch 24/30 | Train Loss: 0.4160 | Val Loss: 0.4273 | Val Acc: 0.8661\n",
            "  ✅ Validation loss improved, model saved!\n",
            "Epoch 25/30 | Train Loss: 0.4061 | Val Loss: 0.4186 | Val Acc: 0.8684\n",
            "  ✅ Validation loss improved, model saved!\n",
            "Epoch 26/30 | Train Loss: 0.3972 | Val Loss: 0.4110 | Val Acc: 0.8707\n",
            "  ✅ Validation loss improved, model saved!\n",
            "Epoch 27/30 | Train Loss: 0.3892 | Val Loss: 0.4040 | Val Acc: 0.8717\n",
            "  ✅ Validation loss improved, model saved!\n",
            "Epoch 28/30 | Train Loss: 0.3818 | Val Loss: 0.3976 | Val Acc: 0.8747\n",
            "  ✅ Validation loss improved, model saved!\n",
            "Epoch 29/30 | Train Loss: 0.3750 | Val Loss: 0.3919 | Val Acc: 0.8758\n",
            "  ✅ Validation loss improved, model saved!\n",
            "Epoch 30/30 | Train Loss: 0.3689 | Val Loss: 0.3866 | Val Acc: 0.8791\n",
            "  ✅ Validation loss improved, model saved!\n"
          ]
        }
      ]
    },
    {
      "cell_type": "code",
      "source": [
        "import matplotlib.pyplot as plt\n",
        "\n",
        "epochs = range(1, len(train_losses)+1)\n",
        "plt.figure(figsize=(12,5))\n",
        "\n",
        "# Loss curves\n",
        "plt.subplot(1,2,1)\n",
        "plt.plot(epochs, train_losses, label=\"Train Loss\", marker=\"o\")\n",
        "plt.plot(epochs, val_losses, label=\"Val Loss\", marker=\"o\")\n",
        "plt.xlabel(\"Epoch\")\n",
        "plt.ylabel(\"Loss\")\n",
        "plt.title(\"Training vs Validation Loss\")\n",
        "plt.legend()\n",
        "\n",
        "# Accuracy curve\n",
        "plt.subplot(1,2,2)\n",
        "plt.plot(epochs, val_accs, label=\"Val Accuracy\", marker=\"o\", color=\"green\")\n",
        "plt.xlabel(\"Epoch\")\n",
        "plt.ylabel(\"Accuracy\")\n",
        "plt.title(\"Validation Accuracy\")\n",
        "plt.legend()\n",
        "\n",
        "plt.show()"
      ],
      "metadata": {
        "colab": {
          "base_uri": "https://localhost:8080/",
          "height": 507
        },
        "id": "J9ZV82C6kOL_",
        "outputId": "4032c962-e607-44ce-c5f3-32c492b9b148"
      },
      "execution_count": 18,
      "outputs": [
        {
          "output_type": "display_data",
          "data": {
            "text/plain": [
              "<Figure size 1200x500 with 2 Axes>"
            ],
            "image/png": "[encoded data removed]"
          },
          "metadata": {}
        }
      ]
    },
    {
      "cell_type": "markdown",
      "source": [
        "✅ **Final Results:**  \n",
        "- Validation Accuracy: ~88%  \n",
        "- Validation Loss steadily decreased → no sign of overfitting  \n",
        "- Performance is competitive with classical deep learning baselines for AG News\n"
      ],
      "metadata": {
        "id": "zBeMhnNA9Dd0"
      }
    },
    {
      "cell_type": "markdown",
      "source": [
        "## 🔮 Step 10: Inference & Predictions\n",
        "\n",
        "Now let’s use the trained model to make predictions.  \n",
        "\n",
        "We will:  \n",
        "1. Load the **best saved model**  \n",
        "2. Predict on random samples from the test set  \n",
        "3. Try **custom input** headlines  \n",
        "4. Visualize performance with a **confusion matrix**\n",
        "\n",
        "This step shows how the model generalizes to unseen text.\n"
      ],
      "metadata": {
        "id": "thZPVnlfnC4c"
      }
    },
    {
      "cell_type": "code",
      "source": [
        "# Reload the trained model with best weights\n",
        "model = TextClassifier(len(vocab), embed_dim=64, num_classes=len(label_names))\n",
        "model.load_state_dict(torch.load(\"best_model.pth\"))\n",
        "model.eval()\n",
        "\n",
        "print(\"✅ Best model loaded and ready for inference\")"
      ],
      "metadata": {
        "colab": {
          "base_uri": "https://localhost:8080/",
          "height": 0
        },
        "id": "E4vUYe5Ul865",
        "outputId": "127ca3a6-f25e-48d1-95dc-b189267202b1"
      },
      "execution_count": 19,
      "outputs": [
        {
          "output_type": "stream",
          "name": "stdout",
          "text": [
            "✅ Best model loaded and ready for inference\n"
          ]
        }
      ]
    },
    {
      "cell_type": "code",
      "source": [
        "def predict(text, model, vocab, tokenizer, label_names):\n",
        "    tokens = tokenizer(text)\n",
        "    # Map unknown tokens to the UNK index\n",
        "    unk_idx = vocab[\"<unk>\"] if \"<unk>\" in vocab else 0\n",
        "    token_ids = [vocab.get(token, unk_idx) for token in tokens]\n",
        "\n",
        "    text_tensor = torch.tensor(token_ids, dtype=torch.int64)\n",
        "    offsets = torch.tensor([0])  # single doc starts at 0\n",
        "\n",
        "    with torch.no_grad():\n",
        "        output = model(text_tensor, offsets)\n",
        "        pred_class = output.argmax(1).item()\n",
        "    return label_names[pred_class]"
      ],
      "metadata": {
        "id": "bbjTIZMnnHvq"
      },
      "execution_count": 26,
      "outputs": []
    },
    {
      "cell_type": "code",
      "source": [
        "import random\n",
        "\n",
        "for i in range(5):\n",
        "    idx = random.randint(0, len(ag_news[\"test\"]) - 1)\n",
        "    sample = ag_news[\"test\"][idx]\n",
        "    text, true_label = sample[\"text\"], sample[\"label\"]\n",
        "\n",
        "    pred_label = predict(text, model, vocab, simple_tokenizer, label_names)\n",
        "    print(f\"Text: {text[:80]}...\")\n",
        "    print(f\"True Label: {label_names[true_label]} | Predicted: {pred_label}\")\n",
        "    print(\"-\"*80)"
      ],
      "metadata": {
        "colab": {
          "base_uri": "https://localhost:8080/",
          "height": 0
        },
        "id": "bf2xaUG1nKMZ",
        "outputId": "2e8a4fc7-5266-473e-c594-e99aa6acbdb7"
      },
      "execution_count": 27,
      "outputs": [
        {
          "output_type": "stream",
          "name": "stdout",
          "text": [
            "Text: Saudis Take a Small Dose of Democracy For the first time in 41 years, Saudi Arab...\n",
            "True Label: World | Predicted: World\n",
            "--------------------------------------------------------------------------------\n",
            "Text: AT amp;T Wireless Moves to Sell Canada Asset T amp;T Wireless Services Inc., the...\n",
            "True Label: Business | Predicted: Business\n",
            "--------------------------------------------------------------------------------\n",
            "Text: FIFA to investigate racism in Madrid Zurich, Switzerland (Sports Network) - FIFA...\n",
            "True Label: Sports | Predicted: Sports\n",
            "--------------------------------------------------------------------------------\n",
            "Text: Our mobile margins will fall: Telstra TELSTRA chief financial officer John Stanh...\n",
            "True Label: Sci/Tech | Predicted: Business\n",
            "--------------------------------------------------------------------------------\n",
            "Text: Only injury can stop peerless Federer at Masters Cup Last season, Roger Federer ...\n",
            "True Label: Sports | Predicted: Sports\n",
            "--------------------------------------------------------------------------------\n"
          ]
        }
      ]
    },
    {
      "cell_type": "code",
      "source": [
        "headline = \"NASA announces breakthrough discovery in space research\"\n",
        "print(\"Custom Input:\", headline)\n",
        "print(\"Predicted Category:\", predict(headline, model, vocab, simple_tokenizer, label_names))"
      ],
      "metadata": {
        "colab": {
          "base_uri": "https://localhost:8080/",
          "height": 0
        },
        "id": "chxSci-5nOSe",
        "outputId": "4fbace86-0dd9-40da-f822-a25df8cb9d01"
      },
      "execution_count": 28,
      "outputs": [
        {
          "output_type": "stream",
          "name": "stdout",
          "text": [
            "Custom Input: NASA announces breakthrough discovery in space research\n",
            "Predicted Category: Sci/Tech\n"
          ]
        }
      ]
    },
    {
      "cell_type": "markdown",
      "source": [
        "✅ Example:  \n",
        "Input: `\"NASA announces breakthrough discovery in space research\"`  \n",
        "Predicted: **Sci/Tech** (Correct)\n"
      ],
      "metadata": {
        "id": "pSUSlB-O9Min"
      }
    },
    {
      "cell_type": "code",
      "source": [
        "from sklearn.metrics import confusion_matrix, ConfusionMatrixDisplay\n",
        "import matplotlib.pyplot as plt\n",
        "\n",
        "y_true, y_pred = [], []\n",
        "for sample in ag_news[\"test\"]:\n",
        "    text, true_label = sample[\"text\"], sample[\"label\"]\n",
        "    pred_label = predict(text, model, vocab, simple_tokenizer, label_names)\n",
        "    y_true.append(true_label)\n",
        "    y_pred.append(label_names.index(pred_label))\n",
        "\n",
        "cm = confusion_matrix(y_true, y_pred)\n",
        "disp = ConfusionMatrixDisplay(confusion_matrix=cm, display_labels=label_names)\n",
        "disp.plot(cmap=\"Blues\", xticks_rotation=45)\n",
        "plt.title(\"Confusion Matrix on AG News Test Set\")\n",
        "plt.show()\n"
      ],
      "metadata": {
        "colab": {
          "base_uri": "https://localhost:8080/",
          "height": 532
        },
        "id": "6OwU9Vxdnnn8",
        "outputId": "c9eb2d21-36c3-4a05-809d-fb9cdbca61b6"
      },
      "execution_count": 29,
      "outputs": [
        {
          "output_type": "display_data",
          "data": {
            "text/plain": [
              "<Figure size 640x480 with 2 Axes>"
            ],
            "image/png": "[encoded data removed]"
          },
          "metadata": {}
        }
      ]
    },
    {
      "cell_type": "markdown",
      "source": [
        "## ✅ Step 11: Conclusion & Next Steps\n",
        "\n",
        "### Key Takeaways\n",
        "- Built a **text classifier** using PyTorch (`EmbeddingBag + Linear`)  \n",
        "- Trained on **AG News dataset** (120K train / 7.6K test)  \n",
        "- Achieved **~88% accuracy**, matching classical NLP baselines  \n",
        "- Strongest class: **Sports**  \n",
        "- Most confusion: **Business vs Sci/Tech**\n",
        "\n",
        "### 📊 Baseline Comparison (AG News)\n",
        "\n",
        "| Model                         | Accuracy |\n",
        "|-------------------------------|----------|\n",
        "| Random Guessing               | 25%      |\n",
        "| Naive Bayes                   | 83%      |\n",
        "| Logistic Regression (BoW)     | 84%      |\n",
        "| TextCNN                       | 87%      |\n",
        "| **EmbeddingBag + Linear (ours)** | **88%** |\n",
        "| FastText                      | 92%      |\n",
        "| DistilBERT / BERT             | 94–95%   |\n",
        "| RoBERTa / XLNet               | 96%+     |\n",
        "\n",
        "✅ Our model outperforms classical baselines and matches early deep learning models.\n",
        "\n",
        "### Lessons Learned\n",
        "- Importance of embeddings and tokenization  \n",
        "- Role of batching and shuffling  \n",
        "- Early stopping ensures efficient training  \n",
        "- Evaluation beyond accuracy (confusion matrix gives deeper insight)\n",
        "\n",
        "### Next Steps\n",
        "- Add **pretrained embeddings** (GloVe, FastText)  \n",
        "- Fine-tune **transformer models** (DistilBERT, BERT) → >94% accuracy  \n",
        "- Deploy as an **interactive app** (Streamlit, Gradio)  \n",
        "\n",
        "This project demonstrates the **full ML pipeline**: preprocessing → modeling → training → evaluation → inference.\n"
      ],
      "metadata": {
        "id": "iWwBT-aHoe2W"
      }
    },
    {
      "cell_type": "code",
      "source": [],
      "metadata": {
        "id": "phMEngAMnxOh"
      },
      "execution_count": null,
      "outputs": []
    }
  ]
}